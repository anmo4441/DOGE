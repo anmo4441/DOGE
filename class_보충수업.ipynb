{
  "nbformat": 4,
  "nbformat_minor": 0,
  "metadata": {
    "colab": {
      "provenance": [],
      "authorship_tag": "ABX9TyNcnHGqhGqZkUU6gop9da4Y",
      "include_colab_link": true
    },
    "kernelspec": {
      "name": "python3",
      "display_name": "Python 3"
    },
    "language_info": {
      "name": "python"
    }
  },
  "cells": [
    {
      "cell_type": "markdown",
      "metadata": {
        "id": "view-in-github",
        "colab_type": "text"
      },
      "source": [
        "<a href=\"https://colab.research.google.com/github/anmo4441/DOGE/blob/main/class_%EB%B3%B4%EC%B6%A9%EC%88%98%EC%97%85.ipynb\" target=\"_parent\"><img src=\"https://colab.research.google.com/assets/colab-badge.svg\" alt=\"Open In Colab\"/></a>"
      ]
    },
    {
      "cell_type": "markdown",
      "source": [
        "# self"
      ],
      "metadata": {
        "id": "F1HMxpVMM_R7"
      }
    },
    {
      "cell_type": "code",
      "execution_count": 4,
      "metadata": {
        "id": "X19Yt_USM5pd"
      },
      "outputs": [],
      "source": [
        "class Func :  # function of func class \n",
        "  def func1():\n",
        "    print(\"func1\")\n",
        "  def func2(self):\n",
        "    print(\"func2\")\n",
        "  def func3(self):\n",
        "    print(id(self))\n",
        "    \n",
        "  "
      ]
    },
    {
      "cell_type": "code",
      "source": [
        "id(f) # f가 할당된 메모리 주소를 출력, memory address allocation of object"
      ],
      "metadata": {
        "colab": {
          "base_uri": "https://localhost:8080/"
        },
        "id": "gIESCCmQN_UC",
        "outputId": "0185a9cb-c95b-4912-bfb6-a8cba9c1629e"
      },
      "execution_count": 5,
      "outputs": [
        {
          "output_type": "execute_result",
          "data": {
            "text/plain": [
              "140040066206256"
            ]
          },
          "metadata": {},
          "execution_count": 5
        }
      ]
    },
    {
      "cell_type": "code",
      "source": [
        "f.func3() # self "
      ],
      "metadata": {
        "colab": {
          "base_uri": "https://localhost:8080/"
        },
        "id": "b7CV9RfXOaCS",
        "outputId": "0ce9761b-b074-4552-b19a-4c35b0196df7"
      },
      "execution_count": 9,
      "outputs": [
        {
          "output_type": "stream",
          "name": "stdout",
          "text": [
            "140040066207216\n"
          ]
        }
      ]
    },
    {
      "cell_type": "code",
      "source": [
        "f = Func()\n"
      ],
      "metadata": {
        "id": "8r0wwjLtNLLi"
      },
      "execution_count": 6,
      "outputs": []
    },
    {
      "cell_type": "code",
      "source": [
        "f.func1() #func1() takes 0 positional arguments but 1 was given"
      ],
      "metadata": {
        "colab": {
          "base_uri": "https://localhost:8080/",
          "height": 174
        },
        "id": "jjVCWy_nNMsR",
        "outputId": "2dc948a6-3048-483b-eea9-963aca559f15"
      },
      "execution_count": 3,
      "outputs": [
        {
          "output_type": "error",
          "ename": "TypeError",
          "evalue": "ignored",
          "traceback": [
            "\u001b[0;31m---------------------------------------------------------------------------\u001b[0m",
            "\u001b[0;31mTypeError\u001b[0m                                 Traceback (most recent call last)",
            "\u001b[0;32m<ipython-input-3-3a71b7392b68>\u001b[0m in \u001b[0;36m<module>\u001b[0;34m\u001b[0m\n\u001b[0;32m----> 1\u001b[0;31m \u001b[0mf\u001b[0m\u001b[0;34m.\u001b[0m\u001b[0mfunc1\u001b[0m\u001b[0;34m(\u001b[0m\u001b[0;34m)\u001b[0m \u001b[0;31m#func1() takes 0 positional arguments but 1 was given\u001b[0m\u001b[0;34m\u001b[0m\u001b[0;34m\u001b[0m\u001b[0m\n\u001b[0m",
            "\u001b[0;31mTypeError\u001b[0m: func1() takes 0 positional arguments but 1 was given"
          ]
        }
      ]
    },
    {
      "cell_type": "code",
      "source": [
        "f.func2() # method of object of Func class"
      ],
      "metadata": {
        "id": "3ciRns2-NW3c"
      },
      "execution_count": null,
      "outputs": []
    },
    {
      "cell_type": "code",
      "source": [],
      "metadata": {
        "colab": {
          "base_uri": "https://localhost:8080/"
        },
        "id": "GWjhS2O3OWTK",
        "outputId": "24d4fbe6-5ad5-4e9c-c6b5-78777f134d73"
      },
      "execution_count": 7,
      "outputs": [
        {
          "output_type": "stream",
          "name": "stdout",
          "text": [
            "140040066207216\n"
          ]
        }
      ]
    },
    {
      "cell_type": "markdown",
      "source": [
        "# 생성자"
      ],
      "metadata": {
        "id": "CxexKzAzO286"
      }
    },
    {
      "cell_type": "code",
      "source": [
        "class Klass : \n",
        "  # 아래와 같이 __new__ 생성자를 정의하지 않으면\n",
        "  # 디폴트 생성자가 호출된다.\n",
        "  def __new__(cls, name, age): # 생성자(Constructor)\n",
        "    print('객체가 생성됨')\n",
        "    return object.__new__(cls)\n",
        "\n",
        "  def __init__(self, name, age): # 생성자가 아니다, 초기화 함수이다.\n",
        "    self.name = name\n",
        "    self.age = age \n",
        "    print('객체가 초기화됨')\n",
        "\n",
        "  def __del__(self): # 소멸자 (Destructor)\n",
        "    print(\"객체가 소멸됨\")\n",
        "    del self"
      ],
      "metadata": {
        "id": "RQwcrqroOWQ8"
      },
      "execution_count": 43,
      "outputs": []
    },
    {
      "cell_type": "code",
      "source": [
        "k = Klass(\"Hyeseong\", 30)"
      ],
      "metadata": {
        "colab": {
          "base_uri": "https://localhost:8080/"
        },
        "id": "j75FDpS8OWOC",
        "outputId": "4a15d4a2-9ded-4803-9c25-3184e5794bdb"
      },
      "execution_count": 35,
      "outputs": [
        {
          "output_type": "stream",
          "name": "stdout",
          "text": [
            "객체가 생성됨\n",
            "객체가 초기화됨\n"
          ]
        }
      ]
    },
    {
      "cell_type": "code",
      "source": [
        "del k "
      ],
      "metadata": {
        "id": "hghs29TgOWLz"
      },
      "execution_count": 36,
      "outputs": []
    },
    {
      "cell_type": "code",
      "source": [
        "k"
      ],
      "metadata": {
        "colab": {
          "base_uri": "https://localhost:8080/",
          "height": 174
        },
        "id": "wWHWxgkDOWIS",
        "outputId": "3b8ca3a9-a3ae-4438-8c40-f8456b97063c"
      },
      "execution_count": 37,
      "outputs": [
        {
          "output_type": "error",
          "ename": "NameError",
          "evalue": "ignored",
          "traceback": [
            "\u001b[0;31m---------------------------------------------------------------------------\u001b[0m",
            "\u001b[0;31mNameError\u001b[0m                                 Traceback (most recent call last)",
            "\u001b[0;32m<ipython-input-37-141b3ea3f03f>\u001b[0m in \u001b[0;36m<module>\u001b[0;34m\u001b[0m\n\u001b[0;32m----> 1\u001b[0;31m \u001b[0mk\u001b[0m\u001b[0;34m\u001b[0m\u001b[0;34m\u001b[0m\u001b[0m\n\u001b[0m",
            "\u001b[0;31mNameError\u001b[0m: name 'k' is not defined"
          ]
        }
      ]
    },
    {
      "cell_type": "code",
      "source": [
        "k = Klass(\"Hyeseong\", 30)"
      ],
      "metadata": {
        "colab": {
          "base_uri": "https://localhost:8080/"
        },
        "id": "A0VTq9JLOWFz",
        "outputId": "a702abc3-6da9-47b9-ff3c-fd3fa0a0adab"
      },
      "execution_count": 38,
      "outputs": [
        {
          "output_type": "stream",
          "name": "stdout",
          "text": [
            "객체가 생성됨\n",
            "객체가 초기화됨\n"
          ]
        }
      ]
    },
    {
      "cell_type": "code",
      "source": [
        "k"
      ],
      "metadata": {
        "colab": {
          "base_uri": "https://localhost:8080/"
        },
        "id": "aOcy5kfIRH1R",
        "outputId": "6b17519b-cced-45d9-f831-9869015ee71b"
      },
      "execution_count": 39,
      "outputs": [
        {
          "output_type": "execute_result",
          "data": {
            "text/plain": [
              "<__main__.Klass at 0x7f5d9cbd4100>"
            ]
          },
          "metadata": {},
          "execution_count": 39
        }
      ]
    },
    {
      "cell_type": "code",
      "source": [
        "li = [1,2,3,4]"
      ],
      "metadata": {
        "id": "33dlZa6WRMN8"
      },
      "execution_count": 40,
      "outputs": []
    },
    {
      "cell_type": "code",
      "source": [
        "del li"
      ],
      "metadata": {
        "id": "k6ZpDeIHRO6H"
      },
      "execution_count": 41,
      "outputs": []
    },
    {
      "cell_type": "code",
      "source": [
        "li"
      ],
      "metadata": {
        "colab": {
          "base_uri": "https://localhost:8080/",
          "height": 174
        },
        "id": "E4qhkYOoRSzg",
        "outputId": "3223ab54-9a05-4320-8522-ca65ee287f81"
      },
      "execution_count": 42,
      "outputs": [
        {
          "output_type": "error",
          "ename": "NameError",
          "evalue": "ignored",
          "traceback": [
            "\u001b[0;31m---------------------------------------------------------------------------\u001b[0m",
            "\u001b[0;31mNameError\u001b[0m                                 Traceback (most recent call last)",
            "\u001b[0;32m<ipython-input-42-3fab4c9c2cf3>\u001b[0m in \u001b[0;36m<module>\u001b[0;34m\u001b[0m\n\u001b[0;32m----> 1\u001b[0;31m \u001b[0mli\u001b[0m\u001b[0;34m\u001b[0m\u001b[0;34m\u001b[0m\u001b[0m\n\u001b[0m",
            "\u001b[0;31mNameError\u001b[0m: name 'li' is not defined"
          ]
        }
      ]
    },
    {
      "cell_type": "code",
      "source": [],
      "metadata": {
        "id": "X65FXLHQRTDk"
      },
      "execution_count": null,
      "outputs": []
    }
  ]
}