{
  "nbformat": 4,
  "nbformat_minor": 0,
  "metadata": {
    "colab": {
      "provenance": [],
      "include_colab_link": true
    },
    "kernelspec": {
      "name": "python3",
      "display_name": "Python 3"
    },
    "language_info": {
      "name": "python"
    }
  },
  "cells": [
    {
      "cell_type": "markdown",
      "metadata": {
        "id": "view-in-github",
        "colab_type": "text"
      },
      "source": [
        "<a href=\"https://colab.research.google.com/github/anmo4441/DOGE/blob/main/%EC%B5%9C%EC%A2%85_Decorator.ipynb\" target=\"_parent\"><img src=\"https://colab.research.google.com/assets/colab-badge.svg\" alt=\"Open In Colab\"/></a>"
      ]
    },
    {
      "cell_type": "markdown",
      "source": [
        "# Function Decorator"
      ],
      "metadata": {
        "id": "6iVX63qSaB-H"
      }
    },
    {
      "cell_type": "code",
      "execution_count": null,
      "metadata": {
        "id": "9zPu_glgAupb"
      },
      "outputs": [],
      "source": [
        "# 자유변수:\n",
        "# -msg:__closure__[0]\n",
        "# -x:__closure__[1]\n",
        "def outer_function(msg):\n",
        "  x = 1\n",
        "  def inner_function():\n",
        "    print(msg, x)\n",
        "\n",
        "  return inner_function"
      ]
    },
    {
      "cell_type": "code",
      "source": [
        "hi_func = outer_function('Hi')\n",
        "bye_func = outer_function('Bye')\n",
        "\n",
        "print(\"1st =\", hi_func.__closure__[0].cell_contents)\n",
        "print(\"2nd = \", hi_func.__closure__[1].cell_contents)\n",
        "\n",
        "hi_func()\n",
        "bye_func()"
      ],
      "metadata": {
        "colab": {
          "base_uri": "https://localhost:8080/"
        },
        "id": "h-hcuOmli5pU",
        "outputId": "ee60a930-327d-4339-a053-a9a0b1f7ebe2"
      },
      "execution_count": null,
      "outputs": [
        {
          "output_type": "stream",
          "name": "stdout",
          "text": [
            "1st = Hi\n",
            "2nd =  2\n",
            "Hi 2\n",
            "Bye 2\n"
          ]
        }
      ]
    },
    {
      "cell_type": "code",
      "source": [
        "hi_func()"
      ],
      "metadata": {
        "colab": {
          "base_uri": "https://localhost:8080/"
        },
        "id": "_Egxt1k3wN_B",
        "outputId": "a01fd9ff-8f71-4133-ce45-4aaee5afdf1d"
      },
      "execution_count": null,
      "outputs": [
        {
          "output_type": "stream",
          "name": "stdout",
          "text": [
            "Hi 2\n"
          ]
        }
      ]
    },
    {
      "cell_type": "code",
      "source": [
        "def decorator_function(original_function):  # 1\n",
        "    def wrapper_function():  # 5\n",
        "        # xxx = original_function()\n",
        "        # return xxx\n",
        "        return original_function()  # 7\n",
        "\n",
        "    return wrapper_function  # 6"
      ],
      "metadata": {
        "id": "voZVuS1DBFfW"
      },
      "execution_count": null,
      "outputs": []
    },
    {
      "cell_type": "code",
      "source": [
        "def display():  # 2\n",
        "    print('display 함수가 실행됐습니다.')  # 8"
      ],
      "metadata": {
        "id": "zE5K7SpCkDXL"
      },
      "execution_count": null,
      "outputs": []
    },
    {
      "cell_type": "code",
      "source": [
        "decorated_display = decorator_function(display)  # 3\n",
        "\n",
        "decorated_display()  # 4"
      ],
      "metadata": {
        "colab": {
          "base_uri": "https://localhost:8080/"
        },
        "id": "Fj5I9SfxAAeR",
        "outputId": "9bac74ab-899e-47a3-c722-3e8d59d040bd"
      },
      "execution_count": null,
      "outputs": [
        {
          "output_type": "stream",
          "name": "stdout",
          "text": [
            "display 함수가 실행됐습니다.\n"
          ]
        }
      ]
    },
    {
      "cell_type": "markdown",
      "source": [
        "위의 코드는 다음과 같은 내용입니다.</br>  \n",
        "* 데코레이터 함수인 decorator_function과 일반 함수인 display를 #1과 #2에서 각각 정의를 하였습니다.</br> \n",
        "* 그 다음에 #3에서 decorated_display라는 변수에 display 함수를 인자로 갖은 decorator_function을 호출하여 얻은 리턴값을 할당하였습니다.</br> \n",
        "* 물론 이 리턴값은 wrapper_function이 되겠죠. 여기서 wrapper_function 함수는 아직 실행된게 아닙니다. decorated_display 변수 안에서 호출되기를 기다리는 겁니다. \n",
        "* 그리고 #4의 decorated_display()를 통해 wrapper_function을 호출하면 #5번에서 정의된  wrapper_function이 호출이 됩니다.</br> \n",
        "* 그러면 #7에서 `original_function`인 `display` 함수가 호출되어 #8의 print 함수가 호출되고 문자열이 출력되는 겁니다."
      ],
      "metadata": {
        "id": "Wrtxx1GJB8cX"
      }
    },
    {
      "cell_type": "code",
      "source": [
        "def decorator_function(original_function):\n",
        "    def wrapper_function():\n",
        "        print('{} 함수가 호출되기전 입니다.'.format(original_function.__name__))\n",
        "        return original_function()\n",
        "\n",
        "    return wrapper_function"
      ],
      "metadata": {
        "id": "wwuSlQI6B89V"
      },
      "execution_count": null,
      "outputs": []
    },
    {
      "cell_type": "code",
      "source": [
        "def display_1():\n",
        "    print('display_1 함수가 실행됐습니다.')\n",
        "\n",
        "\n",
        "def display_2():\n",
        "    print('display_2 함수가 실행됐습니다.')"
      ],
      "metadata": {
        "id": "Ei1xx5XDlZcT"
      },
      "execution_count": null,
      "outputs": []
    },
    {
      "cell_type": "code",
      "source": [
        "display1_name = decorator_function(display_1)  # 1\n",
        "display2_name = decorator_function(display_2)  # 2"
      ],
      "metadata": {
        "id": "Bhx22y9lAG5x"
      },
      "execution_count": null,
      "outputs": []
    },
    {
      "cell_type": "code",
      "source": [
        "display1_name()\n",
        "print(\"*\" * 50)\n",
        "display2_name()"
      ],
      "metadata": {
        "colab": {
          "base_uri": "https://localhost:8080/"
        },
        "id": "rIHTaJJJDyeG",
        "outputId": "dd451697-d462-46e2-f0cc-1b34ba128689"
      },
      "execution_count": null,
      "outputs": [
        {
          "output_type": "stream",
          "name": "stdout",
          "text": [
            "display_1 함수가 호출되기전 입니다.\n",
            "display_1 함수가 실행됐습니다.\n",
            "**************************************************\n",
            "display_2 함수가 호출되기전 입니다.\n",
            "display_2 함수가 실행됐습니다.\n"
          ]
        }
      ]
    },
    {
      "cell_type": "code",
      "source": [
        "def decorator_function(original_function):\n",
        "    print(\"decorator_function func=\", original_function)\n",
        "    def wrapper_function(*args, **kwargs):\n",
        "        print('{} 함수가 호출되기전 입니다.'.format(original_function.__name__))\n",
        "        return original_function(*args, **kwargs)\n",
        "    return wrapper_function"
      ],
      "metadata": {
        "id": "niBvz26ICgGF"
      },
      "execution_count": null,
      "outputs": []
    },
    {
      "cell_type": "code",
      "source": [
        "@decorator_function       # xxx = decorator_function(display), xxx()\n",
        "def display():\n",
        "    print('display 함수가 실행됐습니다.')\n",
        "\n",
        "@decorator_function\n",
        "def display_info(name, age):\n",
        "    print('display_info({}, {}) 함수가 실행됐습니다.'.format(name, age))"
      ],
      "metadata": {
        "colab": {
          "base_uri": "https://localhost:8080/"
        },
        "id": "O5OdYV1enuTV",
        "outputId": "5abc130d-6aef-4501-9625-24caf09aba38"
      },
      "execution_count": null,
      "outputs": [
        {
          "output_type": "stream",
          "name": "stdout",
          "text": [
            "decorator_function func= <function display at 0x7f405766d820>\n",
            "decorator_function func= <function display_info at 0x7f405766df70>\n"
          ]
        }
      ]
    },
    {
      "cell_type": "code",
      "source": [
        "# display1_name = decorator_function(display_1)  # 1\n",
        "# display2_name = decorator_function(display_2)  # 2"
      ],
      "metadata": {
        "id": "by26qv5_AQWa",
        "colab": {
          "base_uri": "https://localhost:8080/"
        },
        "outputId": "5db0ef2b-6645-4484-bf2d-93e087ce2df9"
      },
      "execution_count": null,
      "outputs": [
        {
          "output_type": "stream",
          "name": "stdout",
          "text": [
            "decorator_function func= <function display_1 at 0x7f3b0bb1f790>\n",
            "decorator_function func= <function display_2 at 0x7f3b0bb1f9d0>\n"
          ]
        }
      ]
    },
    {
      "cell_type": "code",
      "source": [
        "# display1_name()\n",
        "# print(\"*\" * 50)\n",
        "# display2_name()"
      ],
      "metadata": {
        "id": "2MK4_CfmA8PK"
      },
      "execution_count": null,
      "outputs": []
    },
    {
      "cell_type": "code",
      "source": [
        "print(display) # display is wrapper_function\n",
        "print(display_info) # display_info is wrapper_function"
      ],
      "metadata": {
        "id": "lz4agaepEIQO",
        "colab": {
          "base_uri": "https://localhost:8080/"
        },
        "outputId": "b88b0c09-adae-4470-ffc9-6e72dc5a49c3"
      },
      "execution_count": null,
      "outputs": [
        {
          "output_type": "stream",
          "name": "stdout",
          "text": [
            "<function decorator_function.<locals>.wrapper_function at 0x7f405766d8b0>\n",
            "<function decorator_function.<locals>.wrapper_function at 0x7f405766d790>\n"
          ]
        }
      ]
    },
    {
      "cell_type": "code",
      "source": [
        "display()"
      ],
      "metadata": {
        "colab": {
          "base_uri": "https://localhost:8080/"
        },
        "id": "YCIMAMEvyx5j",
        "outputId": "1067de38-acdd-4c2a-dbd5-ca1f17d71220"
      },
      "execution_count": null,
      "outputs": [
        {
          "output_type": "stream",
          "name": "stdout",
          "text": [
            "display 함수가 호출되기전 입니다.\n",
            "display 함수가 실행됐습니다.\n"
          ]
        }
      ]
    },
    {
      "cell_type": "code",
      "source": [
        "print()\n",
        "display_info('John', 25)"
      ],
      "metadata": {
        "colab": {
          "base_uri": "https://localhost:8080/"
        },
        "id": "0fxWEeFuy5H9",
        "outputId": "5a9165a9-55ce-44dd-9486-f39f87ce7f24"
      },
      "execution_count": null,
      "outputs": [
        {
          "output_type": "stream",
          "name": "stdout",
          "text": [
            "\n",
            "display_info 함수가 호출되기전 입니다.\n",
            "display_info(John, 25) 함수가 실행됐습니다.\n"
          ]
        }
      ]
    },
    {
      "cell_type": "code",
      "source": [
        "! date"
      ],
      "metadata": {
        "colab": {
          "base_uri": "https://localhost:8080/"
        },
        "id": "t8uPXJbEJQVV",
        "outputId": "dc75f129-1f3a-4eac-9d43-a7a7055ec763"
      },
      "execution_count": null,
      "outputs": [
        {
          "output_type": "stream",
          "name": "stdout",
          "text": [
            "Tue Jan 10 07:41:53 UTC 2023\n"
          ]
        }
      ]
    },
    {
      "cell_type": "code",
      "source": [
        "! date; time sleep 1; date"
      ],
      "metadata": {
        "id": "JIg8xnZ-KHET",
        "colab": {
          "base_uri": "https://localhost:8080/"
        },
        "outputId": "2d7cc6f9-1066-427f-e013-690572549041"
      },
      "execution_count": null,
      "outputs": [
        {
          "output_type": "stream",
          "name": "stdout",
          "text": [
            "Tue Jan 10 07:42:43 UTC 2023\n",
            "\n",
            "real\t0m1.004s\n",
            "user\t0m0.001s\n",
            "sys\t0m0.003s\n",
            "Tue Jan 10 07:42:44 UTC 2023\n"
          ]
        }
      ]
    },
    {
      "cell_type": "code",
      "source": [
        "import datetime\n",
        "import time\n",
        "import logging\n"
      ],
      "metadata": {
        "id": "BsSW8GV93UNM"
      },
      "execution_count": null,
      "outputs": []
    },
    {
      "cell_type": "code",
      "source": [
        "# def my_logger(original_function):   \n",
        "#   filename = '{}.log'.format(original_function.__name__)\n",
        "\n",
        "#   print(\"my_logger:filename path=\", filename)\n",
        "\n",
        "#   logging.basicConfig(handlers=[logging.FileHandler(filename, 'a', 'utf-8')],\n",
        "#                       level=logging.INFO)\n",
        "  \n",
        "#   print(\"+called my_logger\")\n",
        "  \n",
        "#   def wrapper(*args, **kwargs):\n",
        "#     print(\"called wrapper\")\n",
        "#     timestamp = datetime.datetime.now().strftime('%Y-%m-%d %H:%M') # 9:12\n",
        "#     logging.info('[{}] 실행결과 args - {}, kwargs - {}'.format(timestamp, args, kwargs))\n",
        "#     return original_function(*args, **kwargs)\n",
        "\n",
        "#   print(\"-called my_logger\")\n",
        "#   return wrapper"
      ],
      "metadata": {
        "id": "muvqMfiUKU8j"
      },
      "execution_count": null,
      "outputs": []
    },
    {
      "cell_type": "code",
      "source": [
        "# my_logger\n",
        "# def display_info(name, age):\n",
        "#   print(\"called display_info\")\n",
        "#   time.sleep(1)\n",
        "#   print('display_info({}, {}) 함수가 실행됐습니다.'.format(name, age))"
      ],
      "metadata": {
        "colab": {
          "base_uri": "https://localhost:8080/"
        },
        "id": "3PnYG9mpv3I8",
        "outputId": "0646d2cd-af7d-4ace-e471-a3d76bb68076"
      },
      "execution_count": null,
      "outputs": [
        {
          "output_type": "stream",
          "name": "stdout",
          "text": [
            "my_logger:filename path= display_info.log\n",
            "+called my_logger\n",
            "-called my_logger\n"
          ]
        }
      ]
    },
    {
      "cell_type": "code",
      "source": [
        "# display_info(\"sungwon\", 47)"
      ],
      "metadata": {
        "colab": {
          "base_uri": "https://localhost:8080/"
        },
        "id": "nh7wKM1PwuCT",
        "outputId": "549f1f22-f39f-456b-e547-83435dd7adc8"
      },
      "execution_count": null,
      "outputs": [
        {
          "output_type": "stream",
          "name": "stdout",
          "text": [
            "called wrapper\n",
            "called display_info\n",
            "display_info(sungwon, 47) 함수가 실행됐습니다.\n"
          ]
        }
      ]
    },
    {
      "cell_type": "code",
      "source": [
        "!pwd"
      ],
      "metadata": {
        "colab": {
          "base_uri": "https://localhost:8080/"
        },
        "id": "te97YihL4K6L",
        "outputId": "ebd0a965-4660-48f5-b1ab-e3cb15e14907"
      },
      "execution_count": null,
      "outputs": [
        {
          "output_type": "stream",
          "name": "stdout",
          "text": [
            "/content\n"
          ]
        }
      ]
    },
    {
      "cell_type": "code",
      "source": [
        "!ls -al"
      ],
      "metadata": {
        "colab": {
          "base_uri": "https://localhost:8080/"
        },
        "id": "xvZmVNXH4NUz",
        "outputId": "781c5ba6-0386-4b0f-c304-6015f0a3779e"
      },
      "execution_count": null,
      "outputs": [
        {
          "output_type": "stream",
          "name": "stdout",
          "text": [
            "total 20\n",
            "drwxr-xr-x 1 root root 4096 Jul 26 00:20 .\n",
            "drwxr-xr-x 1 root root 4096 Jul 26 00:00 ..\n",
            "drwxr-xr-x 4 root root 4096 Jul 13 13:42 .config\n",
            "-rw-r--r-- 1 root root    0 Jul 26 00:20 display_info.log\n",
            "drwxr-xr-x 2 root root 4096 Jul 26 00:20 .ipynb_checkpoints\n",
            "drwxr-xr-x 1 root root 4096 Jul 13 13:43 sample_data\n"
          ]
        }
      ]
    },
    {
      "cell_type": "code",
      "source": [
        "!cat display_info.log"
      ],
      "metadata": {
        "id": "ZVnwHszo4TWz"
      },
      "execution_count": null,
      "outputs": []
    },
    {
      "cell_type": "code",
      "source": [
        "print(\"*\" * 60)\n",
        "#print(\"call display_info!!!\")\n",
        "display_info('John', 25)"
      ],
      "metadata": {
        "colab": {
          "base_uri": "https://localhost:8080/"
        },
        "id": "PTc1zLX02xLK",
        "outputId": "04e5818c-021d-4f5d-812f-df21d919231e"
      },
      "execution_count": null,
      "outputs": [
        {
          "output_type": "stream",
          "name": "stdout",
          "text": [
            "************************************************************\n",
            "called wrapper\n",
            "called display_info\n",
            "display_info(John, 25) 함수가 실행됐습니다.\n"
          ]
        }
      ]
    },
    {
      "cell_type": "code",
      "source": [
        "!cat display_info.log"
      ],
      "metadata": {
        "id": "_lHU47b34oOj"
      },
      "execution_count": null,
      "outputs": []
    },
    {
      "cell_type": "code",
      "source": [
        "! ls -al"
      ],
      "metadata": {
        "id": "dyIO0dOVNOn-",
        "colab": {
          "base_uri": "https://localhost:8080/"
        },
        "outputId": "8697df8a-89b5-4a01-c363-91c26a8949bd"
      },
      "execution_count": null,
      "outputs": [
        {
          "output_type": "stream",
          "name": "stdout",
          "text": [
            "total 20\n",
            "drwxr-xr-x 1 root root 4096 Jul 26 00:20 .\n",
            "drwxr-xr-x 1 root root 4096 Jul 26 00:00 ..\n",
            "drwxr-xr-x 4 root root 4096 Jul 13 13:42 .config\n",
            "-rw-r--r-- 1 root root    0 Jul 26 00:20 display_info.log\n",
            "drwxr-xr-x 2 root root 4096 Jul 26 00:20 .ipynb_checkpoints\n",
            "drwxr-xr-x 1 root root 4096 Jul 13 13:43 sample_data\n"
          ]
        }
      ]
    },
    {
      "cell_type": "code",
      "source": [
        "! cat ./display_info.log"
      ],
      "metadata": {
        "id": "_CP7OYc5NQek"
      },
      "execution_count": null,
      "outputs": []
    },
    {
      "cell_type": "code",
      "source": [
        "! ls -al"
      ],
      "metadata": {
        "colab": {
          "base_uri": "https://localhost:8080/"
        },
        "id": "4t6bCZDj4HGn",
        "outputId": "b542a3f3-1dfe-43ff-a9e6-c006c9f5d16d"
      },
      "execution_count": null,
      "outputs": [
        {
          "output_type": "stream",
          "name": "stdout",
          "text": [
            "total 24\n",
            "drwxr-xr-x 1 root root 4096 Jan 13 02:05 .\n",
            "drwxr-xr-x 1 root root 4096 Jan 13 01:25 ..\n",
            "drwxr-xr-x 4 root root 4096 Jan  9 14:35 .config\n",
            "-rw-r--r-- 1 root root   19 Jan 13 02:05 helloworld.txt\n",
            "drwxr-xr-x 2 root root 4096 Jan 13 02:05 .ipynb_checkpoints\n",
            "drwxr-xr-x 1 root root 4096 Jan  9 14:36 sample_data\n"
          ]
        }
      ]
    },
    {
      "cell_type": "code",
      "source": [
        "def my_logger(original_function):\n",
        "    import logging\n",
        "    print(\"+my_logger\")\n",
        "    filename = '{}.log'.format(original_function.__name__)\n",
        "    logging.basicConfig(handlers=[logging.FileHandler(filename, 'a', 'utf-8')],\n",
        "                        level=logging.INFO)\n",
        "\n",
        "    def wrapper(*args, **kwargs):\n",
        "        timestamp = datetime.datetime.now().strftime('%Y-%m-%d %H:%M')\n",
        "        logging.info(\n",
        "            '[{}] 실행결과 args - {}, kwargs - {}'.format(timestamp, args, kwargs))\n",
        "        return original_function(*args, **kwargs)\n",
        "\n",
        "    print(\"-my_logger\")\n",
        "    return wrapper\n",
        "\n",
        "\n",
        "def my_timer(original_function):  # 1\n",
        "    import time\n",
        "    print(\"+my_timer\")\n",
        "    def wrapper(*args, **kwargs):\n",
        "        t1 = time.time()\n",
        "        result = original_function(*args, **kwargs)\n",
        "        t2 = time.time() - t1\n",
        "        print('{} 함수가 실행된 총 시간: {} 초'.format(original_function.__name__, t2))\n",
        "        return result\n",
        "    print(\"-my_timer\")\n",
        "    return wrapper\n",
        "\n",
        "\n",
        "@my_timer  # 2\n",
        "def display_info(name, age):\n",
        "    time.sleep(1)\n",
        "    print('display_info({}, {}) 함수가 실행됐습니다.'.format(name, age))\n",
        "\n",
        "\n"
      ],
      "metadata": {
        "id": "PuCtajnjNUiD",
        "colab": {
          "base_uri": "https://localhost:8080/"
        },
        "outputId": "c52743ec-ee8d-4ff5-e863-85146c899b9d"
      },
      "execution_count": null,
      "outputs": [
        {
          "output_type": "stream",
          "name": "stdout",
          "text": [
            "+my_timer\n",
            "-my_timer\n"
          ]
        }
      ]
    },
    {
      "cell_type": "code",
      "source": [
        "display_info('John', 25)"
      ],
      "metadata": {
        "id": "uFqgifm2NhMN",
        "colab": {
          "base_uri": "https://localhost:8080/"
        },
        "outputId": "ea4288ce-ccc0-4068-cb5b-ef9695510e67"
      },
      "execution_count": null,
      "outputs": [
        {
          "output_type": "stream",
          "name": "stdout",
          "text": [
            "display_info(John, 25) 함수가 실행됐습니다.\n",
            "display_info 함수가 실행된 총 시간: 1.0007061958312988 초\n"
          ]
        }
      ]
    },
    {
      "cell_type": "code",
      "source": [
        "import datetime\n",
        "import time\n",
        "import logging"
      ],
      "metadata": {
        "id": "5tlVNRO77s1R"
      },
      "execution_count": null,
      "outputs": []
    },
    {
      "cell_type": "code",
      "source": [
        "def my_logger(original_function):\n",
        "    print(\"+my_logger\")\n",
        "    print(\"my_logger:original_function=\", original_function)\n",
        "    filename = '{}.log'.format(original_function.__name__)\n",
        "    logging.basicConfig(handlers=[logging.FileHandler(filename, 'a', 'utf-8')], \n",
        "                        level=logging.INFO)\n",
        "\n",
        "    def wrapper(*args, **kwargs):\n",
        "        print(\"+my_logger:wrapper\")\n",
        "        timestamp = datetime.datetime.now().strftime('%Y-%m-%d %H:%M')\n",
        "        logging.info(\n",
        "            '[{}] excution result args - {}, kwargs - {}'.format(timestamp, args, kwargs))\n",
        "        \n",
        "        result = original_function(*args, **kwargs)\n",
        "        print(\"-my_logger:wrapper\")\n",
        "        return result\n",
        "\n",
        "    print(\"-my_logger\")\n",
        "    return wrapper\n",
        "\n",
        "\n",
        "def my_timer(original_function):\n",
        "    import time\n",
        "    print(\"+my_timer\")\n",
        "    print(\"my_timer:original_function=\", original_function)\n",
        "    def wrapper(*args, **kwargs):\n",
        "        print(\"+my_timer:wrapper\")\n",
        "        t1 = time.time()\n",
        "        result = original_function(*args, **kwargs)\n",
        "        t2 = time.time() - t1\n",
        "        print('{} 함수가 실행된 총 시간: {} 초'.format(original_function.__name__, t2))\n",
        "        print(\"-my_timer:wrapper\")\n",
        "        return result\n",
        "    print(\"-my_timer\")\n",
        "    return wrapper"
      ],
      "metadata": {
        "id": "Klxo2EMPNsmt"
      },
      "execution_count": null,
      "outputs": []
    },
    {
      "cell_type": "code",
      "source": [
        "@my_logger  # 1\n",
        "@my_timer   # 2\n",
        "def display_info(name, age):\n",
        "    time.sleep(1)\n",
        "    print('display_info({}, {}) 함수가 실행됐습니다.'.format(name, age))"
      ],
      "metadata": {
        "id": "ck9K0lYZIcvY",
        "colab": {
          "base_uri": "https://localhost:8080/"
        },
        "outputId": "08f9512d-bf29-4492-d6ef-0de75a33c56d"
      },
      "execution_count": null,
      "outputs": [
        {
          "output_type": "stream",
          "name": "stdout",
          "text": [
            "+my_timer\n",
            "my_timer:original_function= <function display_info at 0x7f405761be50>\n",
            "-my_timer\n",
            "+my_logger\n",
            "my_logger:original_function= <function my_timer.<locals>.wrapper at 0x7f405761b790>\n",
            "-my_logger\n"
          ]
        }
      ]
    },
    {
      "cell_type": "code",
      "source": [
        "display_info('John', 25)"
      ],
      "metadata": {
        "id": "Ey1T9B4pNxYU",
        "outputId": "ac482ff3-cf8f-4364-c44d-b83e7a29a897",
        "colab": {
          "base_uri": "https://localhost:8080/"
        }
      },
      "execution_count": null,
      "outputs": [
        {
          "output_type": "stream",
          "name": "stdout",
          "text": [
            "+my_logger:wrapper\n",
            "+my_timer:wrapper\n",
            "display_info(John, 25) 함수가 실행됐습니다.\n",
            "display_info 함수가 실행된 총 시간: 1.0012474060058594 초\n",
            "-my_timer:wrapper\n",
            "-my_logger:wrapper\n"
          ]
        }
      ]
    },
    {
      "cell_type": "code",
      "source": [
        "! ls -al"
      ],
      "metadata": {
        "id": "b6yB-9WRNx-y",
        "colab": {
          "base_uri": "https://localhost:8080/"
        },
        "outputId": "704dfe0f-f302-4227-cbf1-9c2410c84eb0"
      },
      "execution_count": null,
      "outputs": [
        {
          "output_type": "stream",
          "name": "stdout",
          "text": [
            "total 20\n",
            "drwxr-xr-x 1 root root 4096 Jul 26 00:34 .\n",
            "drwxr-xr-x 1 root root 4096 Jul 26 00:00 ..\n",
            "drwxr-xr-x 4 root root 4096 Jul 13 13:42 .config\n",
            "-rw-r--r-- 1 root root    0 Jul 26 00:20 display_info.log\n",
            "drwxr-xr-x 2 root root 4096 Jul 26 00:20 .ipynb_checkpoints\n",
            "drwxr-xr-x 1 root root 4096 Jul 13 13:43 sample_data\n",
            "-rw-r--r-- 1 root root    0 Jul 26 00:34 wrapper.log\n"
          ]
        }
      ]
    },
    {
      "cell_type": "markdown",
      "source": [
        "# Class Decorator"
      ],
      "metadata": {
        "id": "Yo9kriBQ0KoQ"
      }
    },
    {
      "cell_type": "code",
      "source": [
        "class MyLogger:\n",
        "  def __init__(self, original_function):\n",
        "    self.filename = '{}.log'.format(original_function.__name__)\n",
        "    logging.basicConfig(handlers=[logging.FileHandler(self.filename, 'a', 'utf-8')], \n",
        "                        level=logging.INFO)\n",
        "    self.original_function = original_function\n",
        "\n",
        "  def __call__(self, *args, **kwargs):\n",
        "    timestamp = datetime.datetime.now().strftime('%Y-%m-%d %H:%M')\n",
        "    logging.info(\n",
        "            '[{}] excution result args - {}, kwargs - {}'.format(timestamp, args, kwargs))\n",
        "    return self.original_function(*args, **kwargs)\n"
      ],
      "metadata": {
        "id": "Xm7KVlAr7egQ"
      },
      "execution_count": null,
      "outputs": []
    },
    {
      "cell_type": "code",
      "source": [
        "class MyTimer:\n",
        "  def __init__(self, original_function):  \n",
        "    print(\"MyTimer:original_function=\", original_function)  \n",
        "    self.original_function = original_function\n",
        "\n",
        "  def __call__(self, *args, **kwargs):\n",
        "    t1 = time.time()\n",
        "    result = self.original_function(*args, **kwargs)\n",
        "    t2 = time.time() - t1\n",
        "    print('{} 함수가 실행된 총 시간: {} 초'.format(self.original_function.__name__, t2))    \n",
        "    return result\n"
      ],
      "metadata": {
        "id": "8H4odMo-8Yxg"
      },
      "execution_count": null,
      "outputs": []
    },
    {
      "cell_type": "code",
      "source": [
        "@MyLogger  # 1\n",
        "def display_info(name, age):\n",
        "    time.sleep(1)\n",
        "    print('display_info({}, {}) 함수가 실행됐습니다.'.format(name, age))"
      ],
      "metadata": {
        "id": "p67p1UUd89PI"
      },
      "execution_count": null,
      "outputs": []
    },
    {
      "cell_type": "code",
      "source": [
        "display_info(\"sungwond\", 47)"
      ],
      "metadata": {
        "colab": {
          "base_uri": "https://localhost:8080/"
        },
        "id": "dr67cMoI-Txv",
        "outputId": "e6c4819e-a50d-4cb3-8f48-b259bd9593c8"
      },
      "execution_count": null,
      "outputs": [
        {
          "output_type": "stream",
          "name": "stdout",
          "text": [
            "display_info(sungwond, 47) 함수가 실행됐습니다.\n"
          ]
        }
      ]
    },
    {
      "cell_type": "code",
      "source": [
        "@MyTimer\n",
        "def display_info(name, age):\n",
        "    time.sleep(1)\n",
        "    print('display_info({}, {}) 함수가 실행됐습니다.'.format(name, age))"
      ],
      "metadata": {
        "colab": {
          "base_uri": "https://localhost:8080/"
        },
        "id": "Uj3PEo2P-vDY",
        "outputId": "d93307e1-6962-40d6-ab45-dbc7a303f522"
      },
      "execution_count": null,
      "outputs": [
        {
          "output_type": "stream",
          "name": "stdout",
          "text": [
            "MyTimer:original_function= <function display_info at 0x7efed2edf160>\n"
          ]
        }
      ]
    },
    {
      "cell_type": "code",
      "source": [
        "display_info(\"sungwon\", 47)"
      ],
      "metadata": {
        "colab": {
          "base_uri": "https://localhost:8080/"
        },
        "id": "FQPFnzbI-yk4",
        "outputId": "52bdb665-7cd9-40ca-b702-80b511d47a40"
      },
      "execution_count": null,
      "outputs": [
        {
          "output_type": "stream",
          "name": "stdout",
          "text": [
            "display_info(sungwon, 47) 함수가 실행됐습니다.\n",
            "display_info 함수가 실행된 총 시간: 1.0014002323150635 초\n"
          ]
        }
      ]
    },
    {
      "cell_type": "code",
      "source": [
        "@MyTimer\n",
        "def display():\n",
        "    print('display 함수가 실행됐습니다.')"
      ],
      "metadata": {
        "colab": {
          "base_uri": "https://localhost:8080/"
        },
        "id": "stJqKcVj-Zif",
        "outputId": "8cdbe79b-84d0-4df2-b047-c12085abf792"
      },
      "execution_count": null,
      "outputs": [
        {
          "output_type": "stream",
          "name": "stdout",
          "text": [
            "MyTimer:original_function= <function display at 0x7efed2edfca0>\n"
          ]
        }
      ]
    },
    {
      "cell_type": "code",
      "source": [
        "display()"
      ],
      "metadata": {
        "colab": {
          "base_uri": "https://localhost:8080/"
        },
        "id": "s6gI2KcC-JQp",
        "outputId": "28757e87-3102-4d42-b479-4723a9356f40"
      },
      "execution_count": null,
      "outputs": [
        {
          "output_type": "stream",
          "name": "stdout",
          "text": [
            "display 함수가 실행됐습니다.\n",
            "display 함수가 실행된 총 시간: 4.458427429199219e-05 초\n"
          ]
        }
      ]
    },
    {
      "cell_type": "markdown",
      "source": [],
      "metadata": {
        "id": "PR1qbKha-nBI"
      }
    },
    {
      "cell_type": "markdown",
      "source": [],
      "metadata": {
        "id": "KBDV-CC1-m4Y"
      }
    },
    {
      "cell_type": "markdown",
      "source": [],
      "metadata": {
        "id": "Sn8n-OAw-muR"
      }
    },
    {
      "cell_type": "code",
      "source": [
        "class DecoratorClass:  # 1\n",
        "    def __init__(self, original_function):\n",
        "        print('Init:{} 함수.'.format(original_function))\n",
        "        self.original_function = original_function\n",
        "\n",
        "    def __call__(self, *args, **kwargs):\n",
        "        print('{} 함수가 호출되기전 입니다.'.format(self.original_function.__name__))\n",
        "        return self.original_function(*args, **kwargs)"
      ],
      "metadata": {
        "id": "CnP5eJKnN4Sz"
      },
      "execution_count": null,
      "outputs": []
    },
    {
      "cell_type": "code",
      "source": [
        "@DecoratorClass  # 2\n",
        "def display():\n",
        "    print('display 함수가 실행됐습니다.')\n",
        "\n",
        "@DecoratorClass  # 3\n",
        "def display_info(name, age):\n",
        "    print('display_info({}, {}) 함수가 실행됐습니다.'.format(name, age))"
      ],
      "metadata": {
        "colab": {
          "base_uri": "https://localhost:8080/"
        },
        "id": "QaI7kFBUxQwb",
        "outputId": "c545c4f7-3747-433e-d5df-cc5fea09c5a3"
      },
      "execution_count": null,
      "outputs": [
        {
          "output_type": "stream",
          "name": "stdout",
          "text": [
            "Init:<function display at 0x7f3b0b1daee0> 함수.\n",
            "Init:<function display_info at 0x7f3b0bbb7040> 함수.\n"
          ]
        }
      ]
    },
    {
      "cell_type": "code",
      "source": [
        "print(display)\n",
        "print(display_info)"
      ],
      "metadata": {
        "id": "oKCZnijmG7hW",
        "colab": {
          "base_uri": "https://localhost:8080/"
        },
        "outputId": "d6353bfd-2b97-4a4c-bdec-8587b5cf8672"
      },
      "execution_count": null,
      "outputs": [
        {
          "output_type": "stream",
          "name": "stdout",
          "text": [
            "<__main__.DecoratorClass object at 0x7f3b0ce27f70>\n",
            "<__main__.DecoratorClass object at 0x7f3b0ce278b0>\n"
          ]
        }
      ]
    },
    {
      "cell_type": "code",
      "source": [
        "display()   # diplay is DecoratorClass, 클래스 객체를 함수 호출방식[__call__를 정의했기 때문에]을 호출할 수 있다\n",
        "print()\n",
        "display_info('John', 25)"
      ],
      "metadata": {
        "id": "C8Zgdm0Zybkj",
        "outputId": "052f8f51-656b-40e4-d1ec-01295b2e8aa7",
        "colab": {
          "base_uri": "https://localhost:8080/",
          "height": 213
        }
      },
      "execution_count": null,
      "outputs": [
        {
          "output_type": "error",
          "ename": "TypeError",
          "evalue": "ignored",
          "traceback": [
            "\u001b[0;31m---------------------------------------------------------------------------\u001b[0m",
            "\u001b[0;31mTypeError\u001b[0m                                 Traceback (most recent call last)",
            "\u001b[0;32m<ipython-input-33-62c3fea91464>\u001b[0m in \u001b[0;36m<module>\u001b[0;34m\u001b[0m\n\u001b[0;32m----> 1\u001b[0;31m \u001b[0mdisplay\u001b[0m\u001b[0;34m(\u001b[0m\u001b[0;34m)\u001b[0m   \u001b[0;31m# diplay is DecoratorClass, 클래스 객체를 함수 호출방식[__call__를 정의했기 때문에]을 호출할 수 있다\u001b[0m\u001b[0;34m\u001b[0m\u001b[0;34m\u001b[0m\u001b[0m\n\u001b[0m\u001b[1;32m      2\u001b[0m \u001b[0mprint\u001b[0m\u001b[0;34m(\u001b[0m\u001b[0;34m)\u001b[0m\u001b[0;34m\u001b[0m\u001b[0;34m\u001b[0m\u001b[0m\n\u001b[1;32m      3\u001b[0m \u001b[0mdisplay_info\u001b[0m\u001b[0;34m(\u001b[0m\u001b[0;34m'John'\u001b[0m\u001b[0;34m,\u001b[0m \u001b[0;36m25\u001b[0m\u001b[0;34m)\u001b[0m\u001b[0;34m\u001b[0m\u001b[0;34m\u001b[0m\u001b[0m\n",
            "\u001b[0;31mTypeError\u001b[0m: 'DecoratorClass' object is not callable"
          ]
        }
      ]
    },
    {
      "cell_type": "code",
      "source": [],
      "metadata": {
        "id": "RQE6n0N9G8Dc"
      },
      "execution_count": null,
      "outputs": []
    }
  ]
}