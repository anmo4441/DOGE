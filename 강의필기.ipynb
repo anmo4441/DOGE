{
  "nbformat": 4,
  "nbformat_minor": 0,
  "metadata": {
    "colab": {
      "provenance": [],
      "authorship_tag": "ABX9TyNahFIsBNEr1p88LqiXlYRc",
      "include_colab_link": true
    },
    "kernelspec": {
      "name": "python3",
      "display_name": "Python 3"
    },
    "language_info": {
      "name": "python"
    }
  },
  "cells": [
    {
      "cell_type": "markdown",
      "metadata": {
        "id": "view-in-github",
        "colab_type": "text"
      },
      "source": [
        "<a href=\"https://colab.research.google.com/github/anmo4441/DOGE/blob/main/%EA%B0%95%EC%9D%98%ED%95%84%EA%B8%B0.ipynb\" target=\"_parent\"><img src=\"https://colab.research.google.com/assets/colab-badge.svg\" alt=\"Open In Colab\"/></a>"
      ]
    },
    {
      "cell_type": "code",
      "source": [],
      "metadata": {
        "id": "zJyk8Il9at-G"
      },
      "execution_count": null,
      "outputs": []
    },
    {
      "cell_type": "code",
      "source": [
        "! date"
      ],
      "metadata": {
        "colab": {
          "base_uri": "https://localhost:8080/"
        },
        "id": "AShDeOPRLxmZ",
        "outputId": "08ccdd49-e78b-4e75-a7c2-6141cdc0ae03"
      },
      "execution_count": null,
      "outputs": [
        {
          "output_type": "stream",
          "name": "stdout",
          "text": [
            "Wed Jan 11 02:35:34 UTC 2023\n"
          ]
        }
      ]
    },
    {
      "cell_type": "markdown",
      "source": [
        "# Array \n",
        "\n",
        "## 장점 \n",
        "* 연속적인 메모리 공간에 element 할당 (장점)\n",
        "* offset , \n",
        "* 속도 ! list는 연속적인 공간에 할당이 안되기 때문에 array는 연속적인 공간에 할당이 되기 때문에 더 빠르다.\n",
        "하지만, 실제적으로 cpu의 구조상으로 인해 동일한 속도가 나온다.list 는 cache 미스가 발생할 확률이 더 높아서 array가 더 빠르다고 한다. (array도 cache 미스가 발생하지만 덜 하다) \n",
        "- (list의 특정element와 Array의 특정 element의 속도는 동일하다.)\n",
        "\n",
        "## 단점\n",
        "\n",
        "* element 에 insert, delete가 불가능하다.\n",
        "* \n",
        "\n",
        "\n",
        "\n",
        "# 정형화된 데이터\n",
        ": 엑셀 (2차원) 행과 열/ 데이터 \n",
        "\n",
        "# 비정형화된 데이터\n",
        ": mp3, RGB 같은 데이터 \n",
        "\n",
        "\n",
        "\n",
        "FHD(1920x1080) , 1080p (p = Progressive 라인 주사 방식, 순차주사방식)) , 1080i (i = (interlace,비월주사)는 1080개의 세로선으로 나누고 이를 540개씩 홀수, 짝수로 나누어 홀,짝을 순서대로 뿌려 주는 방식)\n",
        "\n",
        "\n",
        "- RGB (3원색, Red Green Blu) ex 흰색 : 255red, 255green, 255blue \n",
        "화소 1개 1bit, 24bit = True Color \n",
        "화소를 chanel 이라고도 한다. \n",
        "\n",
        "1920 * 1090 = 2,073,600 byte,  * 3(3색) = 6,220,800 byte\n",
        "= 6,075 kb = 대략 6mb\n",
        "\n",
        "\n",
        "\n",
        "1kb = 1,024 byte\n",
        "1mb = 1,048,576 byte\n",
        "1gb = 1,073,741,824 byte \n",
        "\n",
        "\n",
        "- 메타데이터(Metadata)는 일반적으로 데이터에 관한 구조화된 데이터로, 대량의 정보 가운데에서 확인하고자 하는 정보를 효율적으로 검색하기 위해 원시데이터(Raw data)를 일정한 규칙에 따라 구조화 혹은 표준화한 정보를 의미합니다.\n",
        "(대부분의 파일이 가지고 있는 header가 가지고 있는 metadata, 안에 데이터의 정보를 알려주는것이 meta data) \n",
        "\n",
        "\n",
        "\n",
        "\n"
      ],
      "metadata": {
        "id": "Fo4rrDvXLxUS"
      }
    },
    {
      "cell_type": "markdown",
      "source": [
        "# 이미지 파일 / 압축파일\n",
        "\n",
        "- jpeg,jpg : 압축파일 (손실 압축)\n",
        "- png : 압축파일 (무손실 압축)\n",
        "- bmp : \n",
        "\n",
        "\n",
        "#### 손실압축 \n",
        "\n",
        "-  RGB Data 로 CNN 을 사용한다. \n",
        "jpeg -> RGB,\n",
        "png -> RGB \n",
        "\n",
        "- jpeg (손실 압축) , 압축을 풀어야 사용가능하다. \n",
        "- 왜? \n",
        "1. 무조건 풀도록 만들었다.\n",
        "2. 모니터 때문, 모니터는 RGB 밖에 못 읽어낸다. \n",
        "\n",
        "### RGB Data 를 압축하는 방법 : \n",
        "\n",
        " 1. subsampling , 샘플을 줄이겠다.\n",
        "\n",
        "1픽셀의 각 R G B 를 샘플이라 한다.\n",
        "\n",
        "어떤방식으로 줄이는가? 손실압축이라지만 티가 나면 안된다.\n",
        "사람은 빛에 더 민감하게 반응을 하여 색상정확도를 날리기로 한다.\n",
        "\n",
        "\n",
        "\n"
      ],
      "metadata": {
        "id": "2Gr_JGoLayac"
      }
    },
    {
      "cell_type": "markdown",
      "source": [
        "## ycbcr(=yuv) :   \n",
        "\n",
        "- 1개의 밝기 성분(휘도) 및 2개의 색차 성분으로 색상을 표현하는 색공간 방식\n",
        "\n",
        "\n",
        "* 특징  :  (이미지 압축성 있음)\n",
        "\n",
        "  ㅇ 인간 시각 특징이, 컬러 보다 휘도에 민감하므로, \n",
        "     - 휘도 성분(Y)을, 보다 세밀하게, 고 해상도로 표현하고,\n",
        "     - 색차 성분(CbCr)을, 보다 낮은, 저 해상도로 표현하면,\n",
        "  ㅇ 이때의, YCbCr 방식은, \n",
        "     - RGB 표현 방식 보다, 데이터 량을 줄일 수 있음\n",
        "     * [참고]  ☞ 크로마 포멧 (4:4:4, 4:2:2, 4:2:0, 4:1:1) 참조\n",
        "\n",
        "1. YCBCR:4:2:0 \n",
        "ex) 픽셀 1개당 Y, cb, cr 값이 있을 때, 픽셀 4개를 하나로 묶고 그 중 1개의 픽셀만 Y, cb, cr 값을 유지하고 나머지는 Y 값만 남긴다.\n",
        "\n",
        "2. 성분 구성\n",
        "\n",
        "  ㅇ Y  : 휘도 성분으로, RGB의 가중평균으로 계산이 가능\n",
        "     -  Y = krR + kgG + kbB \n",
        "  ㅇ Cb,Cr,Cg : 색차 성분으로, RGB 각 색과 Y 의 차 (즉, 컬러는 색차 성분들로 표현 가능)\n",
        "     -  Cb = B - Y, Cr = R - Y, Cg = G - Y\n",
        "     *  여기서, Cb + Cr + Cg 는 상수 이므로,\n",
        "        . Cg는, Cr (적색 색차) 및 Cb (청색 색차) 로부터 계산이 가능\n",
        "\n",
        "\n",
        "3. RGB, YCbCr 간의 변환\n",
        "\n",
        "  ㅇ RGB로부터 YCbCr로의 변환 \n",
        "     -  Y  = 0.229R + 0.587G + 0.114B\n",
        "     -  Cb = 0.564 * (B - Y) + 0.5\n",
        "     -  Cr = 0.713 * (R - Y) + 0.5\n",
        "\n",
        "  ㅇ YCbCr로부터 RGB로의 변환 \n",
        "     -  R = Y + 1.403 ∗ (Cr − 0.5)\n",
        "     -  G = Y − 0.344 ∗ (Cr − 0.5) − 0.714 ∗ (Cb − 0.5)\n",
        "     -  B = Y + 1.773 ∗ (Cb − 0.5) \n",
        "\n",
        "  ※ 위의 계산식들은,\n",
        "     - 서로 다른 칼라 TV 방식(NTSC,PAL등)의 색 호환성을 위해, \n",
        "     - (ITU-R BT.601)에서 규격화함 \n",
        "\n",
        "\n",
        "\n",
        "\n",
        "감마보정 : 가중치를 둔다 (RGB 각각의 light 값을 가지는데, 누구의 light 값을 높게 우선순위를 두는가, green의 밝기값을 가장 높게한다. G -> R -> B 순이다.) \n"
      ],
      "metadata": {
        "id": "2BhSni7Mk2t7"
      }
    },
    {
      "cell_type": "markdown",
      "source": [
        "# DCT \n",
        "\n",
        "\n",
        "\n",
        "\n",
        "이미지로 예를 들었을 경우\n",
        "1. 고주파 : 경계선 -> 색상이 변하는 부분\n",
        "\n",
        "2. 저주파 : 색상이 변하지 않는 부분 (사람은 저주파에 더 민감)\n",
        "ex) 하얀 벽(저주파)에 빨간색 선(고주파)을 그으면 바로 눈치를 채기 때문에 저주파를 손실시키면서 압축을 하면 티가 난다.\n",
        "그래서 고주파부분을 손실시킨다.\n",
        "\n",
        "subsampling(픽셀 2x2) 하고 DCT(픽셀 8x8) 연산을 통해서 압축한다."
      ],
      "metadata": {
        "id": "PtIk2L0SqKEA"
      }
    },
    {
      "cell_type": "markdown",
      "source": [
        "# 런 렝스 부호화(Run-length encoding, RLE) \n",
        "또는 런 길이 부호화는 매우 간단한 비손실 압축 방법으로, 데이터에서 같은 값이 연속해서 나타나는 것을 그 개수와 반복되는 값만으로 표현하는 방법이다. 이 방법은 아이콘 등의 간단한 이미지와 같이 연속된 값이 많이 있는 데이터에 효과적이다. 런 렝스 부호화는 만화나 애니메이션 등과 같이 배경의 변화가 없는 영상에 적합한 방식이다. 그러나 실제적으로 잘 적용되지 못한다. 이 방식은 3번 이상 반복되는 문자들에 대해 이용되기 때문에 영어 문장에서는 잘 수행되기 어렵다.\n",
        "\n",
        "예를 들어서, 흰 바탕에 검은 글자가 나오는 스크린을 생각하면 이 스크린에는 연속된 흰 픽셀이 많이 나타날 것이다. 이러한 스크린의 한 스캔 라인이 다음과 같다고 가정하자. (흰 픽셀을 W로 표시하고 검은 픽셀을 B로 표시한다.)\n",
        "\n",
        "WWWWWWWWWWWWBWWWWWWWWWWWWBBBWWWWWWWWWWWWWWWWWWWWWWWWBWWWWWWWWWWWWWW\n",
        "위의 데이터를 간단한 반복 길이 부호를 사용해서 압축하면 다음과 같은 결과를 얻을 수 있다.\n",
        "\n",
        "12WB12W3B24WB14W\n",
        "이는 '12개의 W, (한 개의) B, 12개의 W, 3개의 B, 24개의 W, (한 개의) B, 14개의 W'로 해석한다. 위의 예제의 경우, 압축 전에는 67글자였으나 압축 후에는 단지 16글자만으로 표현할 수 있다. 물론 실제로 이러한 이미지는 바이너리 포맷으로 저장되며 반복되는 길이를 저장하는 방법도 다양하지만, 기본적인 개념은 동일하다. 이때 데이터의 크기는 67바이트에서 16바이트로 줄었으므로 압축률은 약 4.18이다."
      ],
      "metadata": {
        "id": "vnEbF4BWa1bk"
      }
    },
    {
      "cell_type": "markdown",
      "source": [
        "손실 압축 방법들을 통해서 jpeg 파일이 나온다."
      ],
      "metadata": {
        "id": "vcaSFBUia091"
      }
    },
    {
      "cell_type": "markdown",
      "source": [],
      "metadata": {
        "id": "mW15s0jik4ka"
      }
    },
    {
      "cell_type": "markdown",
      "source": [
        "## 압축 \n",
        "\n"
      ],
      "metadata": {
        "id": "U59ml-gOpwxZ"
      }
    },
    {
      "cell_type": "markdown",
      "source": [],
      "metadata": {
        "id": "nKlYQpEDqQvQ"
      }
    },
    {
      "cell_type": "markdown",
      "source": [
        "# Vector \n",
        "\n",
        "벡터 \n",
        "\n",
        "vector = matrix \n",
        "\n",
        "<p>$$\n",
        "x = \\begin{bmatrix}x_1 \\\\ x_2 \\\\ x_3 \\\\ x_4 \\end{bmatrix}\n",
        "$$</p>\n",
        "cloumnVector \n",
        "\n",
        "x = [x1, x2, x3, x4] \n",
        "rowVector "
      ],
      "metadata": {
        "id": "CWb-pj4ezhOG"
      }
    },
    {
      "cell_type": "code",
      "source": [],
      "metadata": {
        "id": "3ptMtE8lpujo"
      },
      "execution_count": null,
      "outputs": []
    }
  ]
}