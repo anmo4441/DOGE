{
  "nbformat": 4,
  "nbformat_minor": 0,
  "metadata": {
    "colab": {
      "provenance": [],
      "authorship_tag": "ABX9TyPqQH1GOA3XY4TBzJHFA5Hu",
      "include_colab_link": true
    },
    "kernelspec": {
      "name": "python3",
      "display_name": "Python 3"
    },
    "language_info": {
      "name": "python"
    }
  },
  "cells": [
    {
      "cell_type": "markdown",
      "metadata": {
        "id": "view-in-github",
        "colab_type": "text"
      },
      "source": [
        "<a href=\"https://colab.research.google.com/github/anmo4441/DOGE/blob/main/Decorator_.ipynb\" target=\"_parent\"><img src=\"https://colab.research.google.com/assets/colab-badge.svg\" alt=\"Open In Colab\"/></a>"
      ]
    },
    {
      "cell_type": "markdown",
      "source": [
        "# Decorator"
      ],
      "metadata": {
        "id": "oU8CLUbRbvik"
      }
    },
    {
      "cell_type": "code",
      "execution_count": null,
      "metadata": {
        "id": "ECpe7SXObrdW"
      },
      "outputs": [],
      "source": [
        "# 자유변수 \n",
        "\n",
        "# -msg: __closure__[0]\n",
        "# -x:__closure__[1]\n",
        "def outer_function(msg):\n",
        "  x = 1\n",
        "  def inner_function():\n",
        "    print(msg, x)\n",
        "\n",
        "  return inner_function\n"
      ]
    },
    {
      "cell_type": "code",
      "source": [
        "hi_func = outer_function(\"Hi\")\n",
        "bye_func = outer_function(\"Bye\")\n",
        "\n",
        "print(\"1st =\", hi_func.__closure__[0].cell_contents)\n",
        "print(\"2nd =\", hi_func.__closure__[1].cell_contents)\n",
        "\n",
        "hi_func()\n",
        "bye_func()"
      ],
      "metadata": {
        "colab": {
          "base_uri": "https://localhost:8080/"
        },
        "id": "sp0P0PvEbwek",
        "outputId": "7242586d-0dc5-4d52-ab1e-c682c780d99c"
      },
      "execution_count": null,
      "outputs": [
        {
          "output_type": "stream",
          "name": "stdout",
          "text": [
            "1st = Hi\n",
            "2nd = 1\n",
            "Hi 1\n",
            "Bye 1\n"
          ]
        }
      ]
    },
    {
      "cell_type": "code",
      "source": [
        "def decorator_function(original_function): # 1\n",
        "    def wrapper_function(): # 5\n",
        "        return original_function() #7\n",
        "\n",
        "    return wrapper_function # 6\n"
      ],
      "metadata": {
        "id": "7JTKWIksbwaj"
      },
      "execution_count": null,
      "outputs": []
    },
    {
      "cell_type": "code",
      "source": [
        "def display(): # 2\n",
        "    print(\"display 함수가 실행되었습니다.\") # 8\n",
        "    "
      ],
      "metadata": {
        "id": "MNmHxzPhbwYL"
      },
      "execution_count": null,
      "outputs": []
    },
    {
      "cell_type": "code",
      "source": [
        "decorated_display = decorator_function(display) # 3\n",
        "\n",
        "decorated_display() # 4"
      ],
      "metadata": {
        "colab": {
          "base_uri": "https://localhost:8080/"
        },
        "id": "CLDIgxX0bwVL",
        "outputId": "9c81c2ab-c5eb-421e-c811-8f60b5e13fe4"
      },
      "execution_count": null,
      "outputs": [
        {
          "output_type": "stream",
          "name": "stdout",
          "text": [
            "display 함수가 실행되었습니다.\n"
          ]
        }
      ]
    },
    {
      "cell_type": "code",
      "source": [
        "def decorator_function(original_function): # \n",
        "    def wrapper_function(): # \n",
        "        return original_function() #\n",
        "\n",
        "    return wrapper_function #\n"
      ],
      "metadata": {
        "id": "q774uhsobwTD"
      },
      "execution_count": null,
      "outputs": []
    },
    {
      "cell_type": "code",
      "source": [
        "def display1():\n",
        "  print(\"display_1 함수가 실행되엇습니다.\")\n",
        "\n",
        "def display2():\n",
        "  print(\"display_2 함수가 실행되었습니다.\")"
      ],
      "metadata": {
        "id": "kLL6sSwJbwQj"
      },
      "execution_count": null,
      "outputs": []
    },
    {
      "cell_type": "code",
      "source": [],
      "metadata": {
        "id": "Vrfni1JXbwOD"
      },
      "execution_count": null,
      "outputs": []
    },
    {
      "cell_type": "code",
      "source": [
        "! date"
      ],
      "metadata": {
        "colab": {
          "base_uri": "https://localhost:8080/"
        },
        "id": "RW0BR7ubbwKU",
        "outputId": "e5ac9ceb-2d2e-4d7c-8c01-7d63c1bfe89d"
      },
      "execution_count": null,
      "outputs": [
        {
          "output_type": "stream",
          "name": "stdout",
          "text": [
            "Tue Jan 10 07:42:14 UTC 2023\n"
          ]
        }
      ]
    },
    {
      "cell_type": "code",
      "source": [
        "! date; time sleep 1; date"
      ],
      "metadata": {
        "colab": {
          "base_uri": "https://localhost:8080/"
        },
        "id": "rMZauiB0bwHz",
        "outputId": "616fd207-9daf-46df-895d-6c50e8a0938a"
      },
      "execution_count": null,
      "outputs": [
        {
          "output_type": "stream",
          "name": "stdout",
          "text": [
            "Tue Jan 10 07:42:39 UTC 2023\n",
            "\n",
            "real\t0m1.003s\n",
            "user\t0m0.001s\n",
            "sys\t0m0.002s\n",
            "Tue Jan 10 07:42:40 UTC 2023\n"
          ]
        }
      ]
    },
    {
      "cell_type": "code",
      "source": [
        "import datetime\n",
        "import time\n",
        "import logging\n",
        "\n",
        "def my_logger(original_function):\n",
        "  filename = \"{}.log\".format(original_function.__name__)\n",
        "\n",
        "  print(\"my_logger:filename path=\",filename)\n",
        "\n",
        "  logging.basicConfig(handlers=[logging.FileHandler(filename, 'a', 'utf-8')],\n",
        "                      level=logging.INFO)\n",
        "  \n",
        "\n",
        "  print(\"+called my_logger\")\n",
        "  \n",
        "  def wrapper(*args, **kwargs):\n",
        "\n",
        "    print(\"called wrapper\")\n",
        "\n",
        "    timestamp = datetime.datetime.now().strftime(\"%Y-%m-%d %H:%M\") # 9:12\n",
        "\n",
        "    logging.info(\"[{}] 실행결과 args - {}, kwargs - {}\".format(timestamp, args, kwargs))\n",
        "\n",
        "    return original_function(*args, **kwargs)\n",
        "\n",
        "  print(\"-called my_logger\")\n",
        "\n",
        "  return wrapper\n",
        "\n"
      ],
      "metadata": {
        "id": "drORhm3JoZRe"
      },
      "execution_count": null,
      "outputs": []
    },
    {
      "cell_type": "code",
      "source": [
        "@my_logger\n",
        "def display_info(name, age):\n",
        "\n",
        "  print(\"called display info\")\n",
        "\n",
        "  time.sleep(1)\n",
        "  \n",
        "  print(\"display_info({}, {}) 함수가 실행되었습니다. \".format(name, age))"
      ],
      "metadata": {
        "colab": {
          "base_uri": "https://localhost:8080/"
        },
        "id": "S61Bkybjo7QR",
        "outputId": "08ed38f3-32d6-4586-d25c-b425a2d24d22"
      },
      "execution_count": null,
      "outputs": [
        {
          "output_type": "stream",
          "name": "stdout",
          "text": [
            "my_logger:filename path= display_info.log\n",
            "+called my_logger\n",
            "-called my_logger\n"
          ]
        }
      ]
    },
    {
      "cell_type": "code",
      "source": [
        "display_info(\"Hyeseong\", 30)"
      ],
      "metadata": {
        "colab": {
          "base_uri": "https://localhost:8080/"
        },
        "id": "Msjebtu1wvDX",
        "outputId": "effe7d79-0254-4aed-93bf-5b4ee9d3b322"
      },
      "execution_count": null,
      "outputs": [
        {
          "output_type": "stream",
          "name": "stdout",
          "text": [
            "called wrapper\n",
            "called display info\n",
            "display_info(Hyeseong, 30) 함수가 실행되었습니다. \n"
          ]
        }
      ]
    },
    {
      "cell_type": "code",
      "source": [
        "!pwd"
      ],
      "metadata": {
        "colab": {
          "base_uri": "https://localhost:8080/"
        },
        "id": "mraQsulzwTwd",
        "outputId": "4fe80517-c73a-4149-f60a-0371b0edef75"
      },
      "execution_count": null,
      "outputs": [
        {
          "output_type": "stream",
          "name": "stdout",
          "text": [
            "/content\n"
          ]
        }
      ]
    },
    {
      "cell_type": "code",
      "source": [
        "!ls -al"
      ],
      "metadata": {
        "colab": {
          "base_uri": "https://localhost:8080/"
        },
        "id": "xS4IWnQUwUi7",
        "outputId": "51bbe43b-2265-4083-f402-3c509fb3411e"
      },
      "execution_count": null,
      "outputs": [
        {
          "output_type": "stream",
          "name": "stdout",
          "text": [
            "total 16\n",
            "drwxr-xr-x 1 root root 4096 Jan 10 08:17 .\n",
            "drwxr-xr-x 1 root root 4096 Jan 10 07:16 ..\n",
            "drwxr-xr-x 4 root root 4096 Jan  5 14:33 .config\n",
            "-rw-r--r-- 1 root root    0 Jan 10 08:17 display_info.log\n",
            "drwxr-xr-x 1 root root 4096 Jan  5 14:34 sample_data\n"
          ]
        }
      ]
    },
    {
      "cell_type": "code",
      "source": [],
      "metadata": {
        "id": "Xhv8Yq9hwcw_"
      },
      "execution_count": null,
      "outputs": []
    },
    {
      "cell_type": "markdown",
      "source": [
        "# Class Decorator\n"
      ],
      "metadata": {
        "id": "dGbtnjpLxObV"
      }
    },
    {
      "cell_type": "code",
      "source": [
        "class DecoratorClass:\n",
        "  def __init__(self, original_function):\n",
        "    print(\"init: {} 함수\".format(original_function))\n",
        "    self.original_function = original_function\n",
        "\n",
        "  def "
      ],
      "metadata": {
        "id": "ngVFZQfrxQj6"
      },
      "execution_count": null,
      "outputs": []
    }
  ]
}