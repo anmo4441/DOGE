{
  "nbformat": 4,
  "nbformat_minor": 0,
  "metadata": {
    "colab": {
      "provenance": [],
      "include_colab_link": true
    },
    "kernelspec": {
      "name": "python3",
      "display_name": "Python 3"
    },
    "language_info": {
      "name": "python"
    }
  },
  "cells": [
    {
      "cell_type": "markdown",
      "metadata": {
        "id": "view-in-github",
        "colab_type": "text"
      },
      "source": [
        "<a href=\"https://colab.research.google.com/github/anmo4441/DOGE/blob/main/function.ipynb\" target=\"_parent\"><img src=\"https://colab.research.google.com/assets/colab-badge.svg\" alt=\"Open In Colab\"/></a>"
      ]
    },
    {
      "cell_type": "code",
      "source": [
        "def func(x,y,z) : \n",
        "  return x + y + z\n"
      ],
      "metadata": {
        "id": "UusfoAOpSsbw"
      },
      "execution_count": null,
      "outputs": []
    },
    {
      "cell_type": "code",
      "source": [
        "  func(1,2,3) # 고정 위치 인수"
      ],
      "metadata": {
        "colab": {
          "base_uri": "https://localhost:8080/"
        },
        "id": "zGyfRpFjSt_u",
        "outputId": "c69a7e36-d243-4868-b638-85c9fb703a96"
      },
      "execution_count": null,
      "outputs": [
        {
          "output_type": "execute_result",
          "data": {
            "text/plain": [
              "6"
            ]
          },
          "metadata": {},
          "execution_count": 2
        }
      ]
    },
    {
      "cell_type": "code",
      "source": [
        "  func(x=1, z=3, y=2) # 고정 키워드 인수"
      ],
      "metadata": {
        "colab": {
          "base_uri": "https://localhost:8080/"
        },
        "id": "-BLo5H9hSvrm",
        "outputId": "f2d02b79-1cc5-45ad-eb47-1bb79d23403d"
      },
      "execution_count": null,
      "outputs": [
        {
          "output_type": "execute_result",
          "data": {
            "text/plain": [
              "6"
            ]
          },
          "metadata": {},
          "execution_count": 3
        }
      ]
    },
    {
      "cell_type": "code",
      "source": [
        "def func(x=1,y=2,z=3):\n",
        "  return x + y + z\n",
        "\n",
        "func() # 인수가 전달되지 않은 함수 콜에 대해서 인수값을 지정을 해줄 수 있다."
      ],
      "metadata": {
        "colab": {
          "base_uri": "https://localhost:8080/"
        },
        "id": "u7GgnDpJTJRn",
        "outputId": "2556f8f5-9437-4b68-c76b-6cba5c3a9d79"
      },
      "execution_count": null,
      "outputs": [
        {
          "output_type": "execute_result",
          "data": {
            "text/plain": [
              "6"
            ]
          },
          "metadata": {},
          "execution_count": 4
        }
      ]
    },
    {
      "cell_type": "code",
      "source": [
        "def func(*args): # 가변 positional argument를 받겠다.\n",
        "  return sum(args)\n",
        "\n",
        "func(1,2,3)"
      ],
      "metadata": {
        "colab": {
          "base_uri": "https://localhost:8080/"
        },
        "id": "EklecM0CTmJf",
        "outputId": "ad289987-4390-46a9-8495-3e875de75ede"
      },
      "execution_count": null,
      "outputs": [
        {
          "output_type": "execute_result",
          "data": {
            "text/plain": [
              "6"
            ]
          },
          "metadata": {},
          "execution_count": 10
        }
      ]
    },
    {
      "cell_type": "code",
      "source": [
        "def func(*, x,y,z, **kwargs):  \n",
        "  print(\"고정키워드\", x,y,z,) # *{positional argument}를 받지 않겠다. / 즉, 키워드 인수값만 받겠다고 정의하는 것.\n",
        "  print(\"가변키워드\", kwargs) # **{가변 positional argumnet}를 받겠다. \n",
        "\n",
        "func(x=10,y=20,z=30, a=1,b=2)"
      ],
      "metadata": {
        "colab": {
          "base_uri": "https://localhost:8080/"
        },
        "id": "3qJYQ_H4T-bu",
        "outputId": "7ecebcf8-6582-4daf-f26c-ed9aa31bb057"
      },
      "execution_count": null,
      "outputs": [
        {
          "output_type": "stream",
          "name": "stdout",
          "text": [
            "고정키워드 10 20 30\n",
            "가변키워드 {'a': 1, 'b': 2}\n"
          ]
        }
      ]
    },
    {
      "cell_type": "code",
      "source": [
        "#########################################################################\n",
        "x = 1  # global scope\n",
        "######################################################################\n",
        "\n",
        "def func():  # global, 함수도 객체이기 때문에 global scope \n",
        "  x = 10   # local scope\n",
        "  return x\n",
        "\n",
        "ret = func() # global scope\n",
        "print(ret)\n",
        "print(x) # global scope 에 있는 x 이다. "
      ],
      "metadata": {
        "colab": {
          "base_uri": "https://localhost:8080/"
        },
        "id": "b0idRgMmKfDU",
        "outputId": "a31a21de-e07a-49bc-97cd-091f4a737b4f"
      },
      "execution_count": null,
      "outputs": [
        {
          "output_type": "stream",
          "name": "stdout",
          "text": [
            "10\n",
            "1\n"
          ]
        }
      ]
    },
    {
      "cell_type": "code",
      "source": [
        "def outer_funces():\n",
        "  x = 10\n",
        "  print(\"+outer_funces\")\n",
        "\n",
        "  def inners():   # 중첩 함수 \n",
        "    print(\"x of inners is = \", x) \n",
        "    return\n",
        "\n",
        "  # call inners()\n",
        "  inners()\n",
        "\n",
        "  print(\"x of outer is = \", x)\n",
        "\n",
        "  print(\"-outer_funces\")\n",
        "  return "
      ],
      "metadata": {
        "id": "WjI4_phlyRFI"
      },
      "execution_count": null,
      "outputs": []
    },
    {
      "cell_type": "code",
      "source": [
        "outer_funces()"
      ],
      "metadata": {
        "colab": {
          "base_uri": "https://localhost:8080/"
        },
        "id": "16z4gtAryXUn",
        "outputId": "5c492096-5dc2-4de4-8703-9f84ff0df635"
      },
      "execution_count": null,
      "outputs": [
        {
          "output_type": "stream",
          "name": "stdout",
          "text": [
            "+outer_funces\n",
            "x of inners is =  10\n",
            "x of outer is =  10\n",
            "-outer_funces\n"
          ]
        }
      ]
    },
    {
      "cell_type": "code",
      "source": [
        "def outer_funcs():\n",
        "  x = 10\n",
        "\n",
        "  def inners():\n",
        "    x = 3   #  x에 대해서 (=)를 처음 사용한다는 것은\n",
        "            #  inners의 local scope에서 x라는 로컬 변수를 선언!!!\n",
        "    x = 5  # x 에 저장된 값을 3에서 5로 변경\n",
        "    print(\"x of inners is = \", x) \n",
        "    return\n",
        "\n",
        "  # call inners()\n",
        "  inners()\n",
        "\n",
        "  print(\"x of outer is = \", x)\n",
        "  return "
      ],
      "metadata": {
        "id": "aT4o2YEDrb_e"
      },
      "execution_count": null,
      "outputs": []
    },
    {
      "cell_type": "code",
      "source": [
        "outer_funcs()"
      ],
      "metadata": {
        "colab": {
          "base_uri": "https://localhost:8080/"
        },
        "id": "k5L0S1GsrlUV",
        "outputId": "1ec38da0-cab9-4918-e67d-3afb1549d6b2"
      },
      "execution_count": null,
      "outputs": [
        {
          "output_type": "stream",
          "name": "stdout",
          "text": [
            "x of inners is =  5\n",
            "x of outer is =  10\n"
          ]
        }
      ]
    },
    {
      "cell_type": "code",
      "source": [
        "x"
      ],
      "metadata": {
        "colab": {
          "base_uri": "https://localhost:8080/"
        },
        "id": "nVdKqmzuWnrY",
        "outputId": "b8efb559-1a6f-45be-b53b-3fc9c0f38f75"
      },
      "execution_count": null,
      "outputs": [
        {
          "output_type": "execute_result",
          "data": {
            "text/plain": [
              "1"
            ]
          },
          "metadata": {},
          "execution_count": 23
        }
      ]
    },
    {
      "cell_type": "code",
      "source": [
        "x = 5  # 5라는 정수값(Integer.real)이 할당된 정수 클래스 객체의 주소(reference)를 할당(binding)"
      ],
      "metadata": {
        "id": "r11ULYr8vsLm"
      },
      "execution_count": null,
      "outputs": []
    },
    {
      "cell_type": "code",
      "source": [
        "def outer_func(x):  # 파라미터 x도 outer_func의 로컬변수이다!!!\n",
        "  print(\"x of outer_func is = \", x) \n",
        "\n",
        "  def inner(y):\n",
        "    # x = 10\n",
        "    x += 1  # x = x + 1 , 이것을 보고 sugar code 라고 한다. \n",
        "\n",
        "    print(\"-x of inner is = \", x) \n",
        "    return x + y\n",
        "\n",
        "  return inner(5)"
      ],
      "metadata": {
        "id": "GzS_YTqEXGi4"
      },
      "execution_count": null,
      "outputs": []
    },
    {
      "cell_type": "code",
      "source": [
        "outer_func(x)\n",
        "print(\"g x=\", x)"
      ],
      "metadata": {
        "colab": {
          "base_uri": "https://localhost:8080/",
          "height": 363
        },
        "id": "r8bGJdzuXOFI",
        "outputId": "2bcf1404-2704-4d23-9cfe-bd9a6139e10d"
      },
      "execution_count": null,
      "outputs": [
        {
          "output_type": "stream",
          "name": "stdout",
          "text": [
            "x of outer_func is =  5\n"
          ]
        },
        {
          "output_type": "error",
          "ename": "UnboundLocalError",
          "evalue": "ignored",
          "traceback": [
            "\u001b[0;31m---------------------------------------------------------------------------\u001b[0m",
            "\u001b[0;31mUnboundLocalError\u001b[0m                         Traceback (most recent call last)",
            "\u001b[0;32m<ipython-input-31-23f3000a4d36>\u001b[0m in \u001b[0;36m<module>\u001b[0;34m\u001b[0m\n\u001b[0;32m----> 1\u001b[0;31m \u001b[0mouter_func\u001b[0m\u001b[0;34m(\u001b[0m\u001b[0mx\u001b[0m\u001b[0;34m)\u001b[0m\u001b[0;34m\u001b[0m\u001b[0;34m\u001b[0m\u001b[0m\n\u001b[0m\u001b[1;32m      2\u001b[0m \u001b[0mprint\u001b[0m\u001b[0;34m(\u001b[0m\u001b[0;34m\"g x=\"\u001b[0m\u001b[0;34m,\u001b[0m \u001b[0mx\u001b[0m\u001b[0;34m)\u001b[0m\u001b[0;34m\u001b[0m\u001b[0;34m\u001b[0m\u001b[0m\n",
            "\u001b[0;32m<ipython-input-30-65b4eb9f002f>\u001b[0m in \u001b[0;36mouter_func\u001b[0;34m(x)\u001b[0m\n\u001b[1;32m     12\u001b[0m     \u001b[0;32mreturn\u001b[0m \u001b[0mx\u001b[0m \u001b[0;34m+\u001b[0m \u001b[0my\u001b[0m\u001b[0;34m\u001b[0m\u001b[0;34m\u001b[0m\u001b[0m\n\u001b[1;32m     13\u001b[0m \u001b[0;34m\u001b[0m\u001b[0m\n\u001b[0;32m---> 14\u001b[0;31m   \u001b[0;32mreturn\u001b[0m \u001b[0minner\u001b[0m\u001b[0;34m(\u001b[0m\u001b[0;36m5\u001b[0m\u001b[0;34m)\u001b[0m\u001b[0;34m\u001b[0m\u001b[0;34m\u001b[0m\u001b[0m\n\u001b[0m",
            "\u001b[0;32m<ipython-input-30-65b4eb9f002f>\u001b[0m in \u001b[0;36minner\u001b[0;34m(y)\u001b[0m\n\u001b[1;32m      7\u001b[0m     \u001b[0;31m# print(\"y of inner is = \", x)\u001b[0m\u001b[0;34m\u001b[0m\u001b[0;34m\u001b[0m\u001b[0;34m\u001b[0m\u001b[0m\n\u001b[1;32m      8\u001b[0m     \u001b[0;31m# print(\"+x of inner is = \", x)\u001b[0m\u001b[0;34m\u001b[0m\u001b[0;34m\u001b[0m\u001b[0;34m\u001b[0m\u001b[0m\n\u001b[0;32m----> 9\u001b[0;31m     \u001b[0mx\u001b[0m \u001b[0;34m+=\u001b[0m \u001b[0;36m1\u001b[0m  \u001b[0;31m# x = x + 1 , 이것을 보고 sugar code 라고 한다.\u001b[0m\u001b[0;34m\u001b[0m\u001b[0;34m\u001b[0m\u001b[0m\n\u001b[0m\u001b[1;32m     10\u001b[0m \u001b[0;34m\u001b[0m\u001b[0m\n\u001b[1;32m     11\u001b[0m     \u001b[0mprint\u001b[0m\u001b[0;34m(\u001b[0m\u001b[0;34m\"-x of inner is = \"\u001b[0m\u001b[0;34m,\u001b[0m \u001b[0mx\u001b[0m\u001b[0;34m)\u001b[0m\u001b[0;34m\u001b[0m\u001b[0;34m\u001b[0m\u001b[0m\n",
            "\u001b[0;31mUnboundLocalError\u001b[0m: local variable 'x' referenced before assignment"
          ]
        }
      ]
    },
    {
      "cell_type": "code",
      "execution_count": null,
      "metadata": {
        "id": "9M9bnRHqqbWj"
      },
      "outputs": [],
      "source": [
        "def outer_func(x):  # 파라미터 x도 outer_func의 로컬변수이다!!!\n",
        "  print(\"x of outer_func is = \", x) \n",
        "\n",
        "  def inner(y):\n",
        "    nonlocal x\n",
        "    #global x \n",
        "    print(\"y of inner is = \", x) \n",
        "    print(\"+x of inner is = \", x) \n",
        "    x += 1  # x = x + 1 , 이것을 보고 sugar code 라고 한다. \n",
        "\n",
        "    print(\"-x of inner is = \", x) \n",
        "    return x + y\n",
        "\n",
        "  return inner(5)"
      ]
    },
    {
      "cell_type": "code",
      "source": [
        "outer_func(x)\n",
        "print(\"g x=\", x)"
      ],
      "metadata": {
        "colab": {
          "base_uri": "https://localhost:8080/"
        },
        "id": "BKMzhNc3q5NW",
        "outputId": "f92df6ba-7c44-4dc3-c56a-507c1c09389e"
      },
      "execution_count": null,
      "outputs": [
        {
          "output_type": "stream",
          "name": "stdout",
          "text": [
            "x of outer_func is =  5\n",
            "y of inner is =  5\n",
            "+x of inner is =  5\n",
            "-x of inner is =  6\n",
            "g x= 5\n"
          ]
        }
      ]
    },
    {
      "cell_type": "code",
      "source": [],
      "metadata": {
        "id": "XirUquLDq-F9"
      },
      "execution_count": null,
      "outputs": []
    },
    {
      "cell_type": "markdown",
      "source": [
        "클로저 함수 조건\n",
        "* 중첩함수(Netsted Function)\n",
        "* Outer Function의 변수를 Inner Functidn에서 사용한다:자유변수(Free Variables), 자유변수는 라이프사이클이 없다.\n",
        "* Outer Function의 리턴값은 Inner Function이다"
      ],
      "metadata": {
        "id": "7P8wjh9T6EeA"
      }
    },
    {
      "cell_type": "code",
      "source": [
        "def clfunc():\n",
        "  li = list()   #1\n",
        "\n",
        "  def innerf(args):\n",
        "    li.append(args)\n",
        "    #print(li)\n",
        "    return li\n",
        "\n",
        "  return innerf #2"
      ],
      "metadata": {
        "id": "cAnu5jAo_XZJ"
      },
      "execution_count": 1,
      "outputs": []
    },
    {
      "cell_type": "code",
      "source": [
        "clo = clfunc()\n",
        "clo"
      ],
      "metadata": {
        "colab": {
          "base_uri": "https://localhost:8080/"
        },
        "id": "kRww8vQL_rCg",
        "outputId": "3c6f8e74-0f74-4a29-f946-2328970f3cb8"
      },
      "execution_count": 3,
      "outputs": [
        {
          "output_type": "execute_result",
          "data": {
            "text/plain": [
              "<function __main__.clfunc.<locals>.innerf(args)>"
            ]
          },
          "metadata": {},
          "execution_count": 3
        }
      ]
    },
    {
      "cell_type": "code",
      "source": [
        "clo.__closure__[0].cell_contents"
      ],
      "metadata": {
        "colab": {
          "base_uri": "https://localhost:8080/"
        },
        "id": "vfZT17weB4oB",
        "outputId": "aa97b599-93cc-4ea3-e266-0071742bc58d"
      },
      "execution_count": 4,
      "outputs": [
        {
          "output_type": "execute_result",
          "data": {
            "text/plain": [
              "[]"
            ]
          },
          "metadata": {},
          "execution_count": 4
        }
      ]
    },
    {
      "cell_type": "code",
      "source": [
        "clo(1)"
      ],
      "metadata": {
        "colab": {
          "base_uri": "https://localhost:8080/"
        },
        "id": "TrnTqsg4_0RY",
        "outputId": "99471a33-babf-44d8-9aa5-b5edfb80dfb7"
      },
      "execution_count": null,
      "outputs": [
        {
          "output_type": "execute_result",
          "data": {
            "text/plain": [
              "[1]"
            ]
          },
          "metadata": {},
          "execution_count": 38
        }
      ]
    },
    {
      "cell_type": "code",
      "source": [
        "clo(2)"
      ],
      "metadata": {
        "colab": {
          "base_uri": "https://localhost:8080/"
        },
        "id": "lUV5jIDm_3ZQ",
        "outputId": "c2f57e8a-9d0b-4997-defa-cc0e5f510db4"
      },
      "execution_count": null,
      "outputs": [
        {
          "output_type": "execute_result",
          "data": {
            "text/plain": [
              "[1, 2]"
            ]
          },
          "metadata": {},
          "execution_count": 39
        }
      ]
    },
    {
      "cell_type": "code",
      "source": [
        "clo(3)"
      ],
      "metadata": {
        "colab": {
          "base_uri": "https://localhost:8080/"
        },
        "id": "xmEVO1Ww_9qY",
        "outputId": "1885e8f1-6ff5-4d22-cf44-7da28a6adf83"
      },
      "execution_count": null,
      "outputs": [
        {
          "output_type": "execute_result",
          "data": {
            "text/plain": [
              "[1, 2, 3]"
            ]
          },
          "metadata": {},
          "execution_count": 40
        }
      ]
    },
    {
      "cell_type": "code",
      "source": [
        "def closure(x) :\n",
        "  def inner (y) :\n",
        "    nonlocal x\n",
        "    x = x *y\n",
        "    return x\n",
        "  return inner"
      ],
      "metadata": {
        "id": "UB7McC0V__1o"
      },
      "execution_count": null,
      "outputs": []
    },
    {
      "cell_type": "code",
      "source": [
        "clo2 = closure(5)"
      ],
      "metadata": {
        "id": "Rr0wkq-MAR7_"
      },
      "execution_count": null,
      "outputs": []
    },
    {
      "cell_type": "code",
      "source": [
        "clo2 # first class citizen 객체이다. "
      ],
      "metadata": {
        "colab": {
          "base_uri": "https://localhost:8080/"
        },
        "id": "BWAyI9fmAViQ",
        "outputId": "8732cf7d-1175-45a2-81a7-1f456fa12016"
      },
      "execution_count": null,
      "outputs": [
        {
          "output_type": "execute_result",
          "data": {
            "text/plain": [
              "<function __main__.closure.<locals>.inner(y)>"
            ]
          },
          "metadata": {},
          "execution_count": 44
        }
      ]
    },
    {
      "cell_type": "code",
      "source": [
        "def alert_start(func):\n",
        "  print(\"+alert_start\")\n",
        "  print(\"alert_start의 func=\", func)  \n",
        "  def new_func(*args, **kwargs):\n",
        "    print(\"alert_start:new_func:함수가 시작됩니다.\")\n",
        "    #func함수는 우리가 정의한 sum_all함수!!!\n",
        "    return func(*args, **kwargs)  # func is sum_all \n",
        "\n",
        "\n",
        "  print(\"-alert_start\")\n",
        "  return new_func"
      ],
      "metadata": {
        "id": "9OBwxUfgAWs_"
      },
      "execution_count": null,
      "outputs": []
    },
    {
      "cell_type": "code",
      "source": [
        "def alert_end(func):  \n",
        "  print(\"+alert_end\")\n",
        "  print(\"alert_end의 func=\", func)  # alert_start.new_func\n",
        "  def new_func(*args, **kwargs):\n",
        "    print(\"+alert_end:new_func\")\n",
        "    result=func(*args, **kwargs)  # alert_start.new_func\n",
        "    print(\"-alert_end:new_func:함수가 끝났습니다.\")\n",
        "    return result\n",
        "\n",
        "  print(\"-alert_end\")\n",
        "  return new_func"
      ],
      "metadata": {
        "id": "J-UnwM6Rtis3"
      },
      "execution_count": null,
      "outputs": []
    },
    {
      "cell_type": "code",
      "source": [
        "def sum_all(*args):\n",
        "  print(\"sum 함수를 호출합니다\")\n",
        "  return sum(args)\n",
        "\n",
        "print(\"before sum_all=\",sum_all)"
      ],
      "metadata": {
        "colab": {
          "base_uri": "https://localhost:8080/"
        },
        "id": "qHeySdr9QEZ0",
        "outputId": "55c29a7e-7f8f-4566-a096-4b97a4cf38f1"
      },
      "execution_count": null,
      "outputs": [
        {
          "output_type": "stream",
          "name": "stdout",
          "text": [
            "before sum_all= <function sum_all at 0x7f28e8232d30>\n"
          ]
        }
      ]
    },
    {
      "cell_type": "code",
      "source": [
        "sum_all_ex = alert_start(sum_all) # 변수 sum_all는 alert_start의 내부함수,new_func이다!!!\n",
        "                               # alert_start함수 파라미터의 argument인 sum_all은 우리가 정의한 함수!\n",
        "print(\"after sum_all=\",sum_all_ex)"
      ],
      "metadata": {
        "colab": {
          "base_uri": "https://localhost:8080/"
        },
        "id": "wltCz2vXHB7n",
        "outputId": "c4c850e7-8a00-403c-dc48-0adca9cf5e4d"
      },
      "execution_count": null,
      "outputs": [
        {
          "output_type": "stream",
          "name": "stdout",
          "text": [
            "+alert_start\n",
            "alert_start의 func= <function sum_all at 0x7f28e8232d30>\n",
            "-alert_start\n",
            "after sum_all= <function alert_start.<locals>.new_func at 0x7f28e8232ee0>\n"
          ]
        }
      ]
    },
    {
      "cell_type": "code",
      "source": [
        "sum_all_ex(1,2,3,4,5) #sum_all함수는 alert_start의 내부함수, new_func이다\n",
        "#print(\"alert_start:new_func:함수가 시작됩니다.\")"
      ],
      "metadata": {
        "colab": {
          "base_uri": "https://localhost:8080/"
        },
        "id": "y_7xhiFzUE5s",
        "outputId": "1c7a3b80-4379-40ab-da84-10566cbac728"
      },
      "execution_count": null,
      "outputs": [
        {
          "output_type": "stream",
          "name": "stdout",
          "text": [
            "alert_start:new_func:함수가 시작됩니다.\n",
            "sum 함수를 호출합니다\n"
          ]
        },
        {
          "output_type": "execute_result",
          "data": {
            "text/plain": [
              "15"
            ]
          },
          "metadata": {},
          "execution_count": 61
        }
      ]
    },
    {
      "cell_type": "code",
      "source": [
        "# @ : 데코레이터\n",
        "@alert_start       # 등가: sum_all = alert_start(sum_all)\n",
        "def sum_all(*args):\n",
        "  return sum(args)"
      ],
      "metadata": {
        "colab": {
          "base_uri": "https://localhost:8080/"
        },
        "id": "pymQ22HXTtLO",
        "outputId": "939edc30-5119-4596-c342-39e9229aca06"
      },
      "execution_count": null,
      "outputs": [
        {
          "output_type": "stream",
          "name": "stdout",
          "text": [
            "+alert_start\n",
            "alert_start의 func= <function sum_all at 0x7f28e81bfb80>\n",
            "-alert_start\n"
          ]
        }
      ]
    },
    {
      "cell_type": "code",
      "source": [
        "sum_all(1,2,3,4,5)"
      ],
      "metadata": {
        "colab": {
          "base_uri": "https://localhost:8080/"
        },
        "id": "q_xwQorOUCq0",
        "outputId": "734151e6-c1db-48a1-eee5-1610d9c4809e"
      },
      "execution_count": null,
      "outputs": [
        {
          "output_type": "stream",
          "name": "stdout",
          "text": [
            "alert_start:new_func:함수가 시작됩니다.\n"
          ]
        },
        {
          "output_type": "execute_result",
          "data": {
            "text/plain": [
              "15"
            ]
          },
          "metadata": {},
          "execution_count": 52
        }
      ]
    },
    {
      "cell_type": "code",
      "source": [
        "@alert_end         # -> alert_end(alert_start.new_func)\n",
        "@alert_start       # -> alert_start() 함수가 호출됨!!!\n",
        "def sum_all(*args):\n",
        "  return sum(args)"
      ],
      "metadata": {
        "colab": {
          "base_uri": "https://localhost:8080/"
        },
        "id": "l-tsB_8Htll_",
        "outputId": "4cb37d2f-9f97-4dcd-c3a2-b89e7b78d448"
      },
      "execution_count": null,
      "outputs": [
        {
          "output_type": "stream",
          "name": "stdout",
          "text": [
            "+alert_start\n",
            "alert_start의 func= <function sum_all at 0x7f28e8219c10>\n",
            "-alert_start\n",
            "+alert_end\n",
            "alert_end의 func= <function alert_start.<locals>.new_func at 0x7f28e827a040>\n",
            "-alert_end\n"
          ]
        }
      ]
    },
    {
      "cell_type": "code",
      "source": [
        "sum_all(1,2,3,4,5)"
      ],
      "metadata": {
        "colab": {
          "base_uri": "https://localhost:8080/"
        },
        "id": "CTq-UuBxv-5P",
        "outputId": "db3909a4-54b9-4463-edf0-e14190f4f984"
      },
      "execution_count": null,
      "outputs": [
        {
          "output_type": "stream",
          "name": "stdout",
          "text": [
            "+alert_end:new_func\n",
            "alert_start:new_func:함수가 시작됩니다.\n",
            "-alert_end:new_func:함수가 끝났습니다.\n"
          ]
        },
        {
          "output_type": "execute_result",
          "data": {
            "text/plain": [
              "15"
            ]
          },
          "metadata": {},
          "execution_count": 54
        }
      ]
    },
    {
      "cell_type": "code",
      "source": [
        "alert_end(alert_start(sum_all))(1,2,3,4,5)"
      ],
      "metadata": {
        "id": "vy_lC2oPwBbl",
        "colab": {
          "base_uri": "https://localhost:8080/"
        },
        "outputId": "96b40e1d-f0b6-4bde-a6af-b35963b0c364"
      },
      "execution_count": null,
      "outputs": [
        {
          "output_type": "stream",
          "name": "stdout",
          "text": [
            "+alert_start\n",
            "alert_start의 func= <function alert_end.<locals>.new_func at 0x7f28e827af70>\n",
            "-alert_start\n",
            "+alert_end\n",
            "alert_end의 func= <function alert_start.<locals>.new_func at 0x7f28e827a430>\n",
            "-alert_end\n",
            "+alert_end:new_func\n",
            "alert_start:new_func:함수가 시작됩니다.\n",
            "+alert_end:new_func\n",
            "alert_start:new_func:함수가 시작됩니다.\n",
            "-alert_end:new_func:함수가 끝났습니다.\n",
            "-alert_end:new_func:함수가 끝났습니다.\n"
          ]
        },
        {
          "output_type": "execute_result",
          "data": {
            "text/plain": [
              "15"
            ]
          },
          "metadata": {},
          "execution_count": 55
        }
      ]
    },
    {
      "cell_type": "code",
      "source": [],
      "metadata": {
        "id": "DIMoWsF1bDfn"
      },
      "execution_count": null,
      "outputs": []
    }
  ]
}