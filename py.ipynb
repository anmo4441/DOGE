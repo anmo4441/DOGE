{
  "nbformat": 4,
  "nbformat_minor": 0,
  "metadata": {
    "colab": {
      "provenance": [],
      "authorship_tag": "ABX9TyMgM1+PpHDrvzHS/lriVcb3",
      "include_colab_link": true
    },
    "kernelspec": {
      "name": "python3",
      "display_name": "Python 3"
    },
    "language_info": {
      "name": "python"
    }
  },
  "cells": [
    {
      "cell_type": "markdown",
      "metadata": {
        "id": "view-in-github",
        "colab_type": "text"
      },
      "source": [
        "<a href=\"https://colab.research.google.com/github/anmo4441/DOGE/blob/main/py.ipynb\" target=\"_parent\"><img src=\"https://colab.research.google.com/assets/colab-badge.svg\" alt=\"Open In Colab\"/></a>"
      ]
    },
    {
      "cell_type": "markdown",
      "source": [
        "1. literal : 값 (컴파일러가 판단)\n",
        "2. Reference : 주소값\n",
        "a = 3 , python 은 int class의 object 객체이다. 이때의 주소값이 Refence다.\n",
        "3. Pack, Unpack \n",
        "\n",
        "- Pack : \n",
        "\n",
        "- Unpack : \n",
        "\n",
        "\n",
        "4. lambda : No-Name Function\n",
        "- 이름이 없는 function  \n",
        "함수 테이블에 저장이 안된다.\n",
        "call stack 이 불가능하다. 그래서 코드 자체를 입력해야한다.\n",
        "속도저하가 없다.\n",
        "\n",
        "\n",
        "C더플러스 / inlien function \n",
        "function call , stack context \n",
        "이름이 있어서 function을 call 할 수 있다. \n",
        "\n",
        "함수 \n",
        "parameter : 함수 정의할 때 \n",
        "def(키워드) func 이름 (x, y)파라미터) :\n",
        "   print(x, y)\n",
        "\n",
        "func(x,y 아규먼트) 파라미터의 값을 argument라고 한다.\n",
        "\n",
        "\n",
        "python 에서는 배열을 지원하지 않는다. \n",
        "비슷한 list가 있지만 느리다.\n",
        "\n",
        "배열(Array) : \n",
        "배열을 왜 쓰는가? \n",
        "10,000명에 가까운 회원을 관리하는 프로그램을 사용한다고 쳤을 때,\n",
        "배열이 없으면 각 1만개의 variable table이 생기지만\n",
        "배열이 있으면 1개의 variable table 로 만들 수 있다. \n",
        "symbol table 용량을 줄인것.\n",
        "\n",
        "그리고 속도 때문에 쓴다. \n",
        "연속적으로 메모리 할당되기 때문에 캐싱이 빠르다.\n",
        "\n",
        "파이썬에서는 배열을 지원하지않는다. \n",
        "\n",
        "\n",
        "\n",
        "list는 연속적으로 할당되지 않는다.\n",
        "\n",
        "\n",
        "\n",
        "\n",
        "offset : 배열의 첫번째 주소만 알면 된다. \n",
        "\n",
        "function table, variable table ) - > symbol table \n",
        "\n",
        "\n",
        "\n",
        "\n",
        "\n",
        "\n"
      ],
      "metadata": {
        "id": "h2JjE5v_8DPo"
      }
    },
    {
      "cell_type": "code",
      "execution_count": 3,
      "metadata": {
        "colab": {
          "base_uri": "https://localhost:8080/"
        },
        "id": "ipltscfZ13HQ",
        "outputId": "abe6b9fe-2cef-492c-8d7a-5564206edbaa"
      },
      "outputs": [
        {
          "output_type": "execute_result",
          "data": {
            "text/plain": [
              "3"
            ]
          },
          "metadata": {},
          "execution_count": 3
        }
      ],
      "source": [
        "# literal\n",
        "\n",
        "a = 3 # 3 = literal , 값 / 3 = reference / = 는 연산자 operator / a 는 비연산자 operat\n",
        "a"
      ]
    },
    {
      "cell_type": "code",
      "source": [
        "b = 7\n",
        "a = b\n",
        "a\n",
        "# = 을 기준으로 오른쪽은 값이 있는 것이 나와야 한다.\n",
        "# a = 3 일때 3이 literal 이다.\n",
        "# a = b 일때 b는 변수 value 이다. \n"
      ],
      "metadata": {
        "colab": {
          "base_uri": "https://localhost:8080/"
        },
        "id": "SPVNzwzI4Rvm",
        "outputId": "208670c3-e095-41c0-91f6-f4d4428cb6f1"
      },
      "execution_count": 5,
      "outputs": [
        {
          "output_type": "execute_result",
          "data": {
            "text/plain": [
              "7"
            ]
          },
          "metadata": {},
          "execution_count": 5
        }
      ]
    },
    {
      "cell_type": "code",
      "source": [
        "def func(x,y): # x, y 는 parameter\n",
        "  return x+y # python에서 func 이 return 하는 값도 object 이다. 함수도 object이다. \n",
        "  # 이것은 first citizen 라고 한다. \n",
        "\n",
        "func(3,4)"
      ],
      "metadata": {
        "colab": {
          "base_uri": "https://localhost:8080/"
        },
        "id": "hoqI_U2g4pTG",
        "outputId": "ca46d2b7-1420-4bf2-a252-65abdf3e1720"
      },
      "execution_count": 9,
      "outputs": [
        {
          "output_type": "execute_result",
          "data": {
            "text/plain": [
              "7"
            ]
          },
          "metadata": {},
          "execution_count": 9
        }
      ]
    },
    {
      "cell_type": "code",
      "source": [
        "c = func(a,b) # a , b 는 argument \n",
        "c"
      ],
      "metadata": {
        "colab": {
          "base_uri": "https://localhost:8080/"
        },
        "id": "qW51OW5J44Wu",
        "outputId": "3f785147-ecf3-49ec-bf98-026b76d03dad"
      },
      "execution_count": 11,
      "outputs": [
        {
          "output_type": "execute_result",
          "data": {
            "text/plain": [
              "14"
            ]
          },
          "metadata": {},
          "execution_count": 11
        }
      ]
    },
    {
      "cell_type": "code",
      "source": [
        "# Name Space , 이름 공간, 정보\n",
        "# a.cpp b.cpp 파일에 \n",
        "# 동일한 함수명(x)을 가진 함수를 각각 만들었다. 동일한 파라미터까지 \n",
        "# 실제 리턴하는 값과 다른 경우가 나온다 그 때 구별하는 것이 Name Space \n",
        "# a::x, b::x \n",
        "\n",
        "# 파이썬에서는 다르다.\n",
        "# local scope 특정함수안에서 정의\n",
        "# global scope \n",
        "\n",
        "# life cycle : \n",
        "\n"
      ],
      "metadata": {
        "id": "lR9QEAVr58e-"
      },
      "execution_count": null,
      "outputs": []
    },
    {
      "cell_type": "markdown",
      "source": [
        "# Name Space : 변수에 대한 정보 \n",
        "\n",
        "\n",
        "* global \n",
        "\n",
        "* a       =       3\n",
        "\n",
        "* b       =      3"
      ],
      "metadata": {
        "id": "oU8d42LcGAKy"
      }
    },
    {
      "cell_type": "code",
      "source": [
        "def funclife(x):\n",
        "  y = 0 # local 변수는 함수 호출이 시작되고 return 되는 동안만 살 수 있다. 그것이 life cycle / stack = 변수가 살아있는 동안의 메모리 공간\n",
        "  return x + y # local scope, 함수 호출 동안의 메모리가 stack memory 공간이다. \n",
        "\n",
        "funclife(4) # 함수를 호출하면 branch(분기), 점프, 되돌아가서 실행한다 \n"
      ],
      "metadata": {
        "colab": {
          "base_uri": "https://localhost:8080/"
        },
        "id": "-I2L4FKF6-dG",
        "outputId": "08bbec70-1d07-447b-dcca-9c34ee25eb0a"
      },
      "execution_count": 15,
      "outputs": [
        {
          "output_type": "execute_result",
          "data": {
            "text/plain": [
              "4"
            ]
          },
          "metadata": {},
          "execution_count": 15
        }
      ]
    },
    {
      "cell_type": "markdown",
      "source": [
        "# Tuple\n"
      ],
      "metadata": {
        "id": "AziG6dDmGXdC"
      }
    },
    {
      "cell_type": "code",
      "source": [
        "tu = () # literal 방식의 empty tuple\n",
        "# empty tuple \n"
      ],
      "metadata": {
        "id": "wHXXz9Rn-yQQ"
      },
      "execution_count": 16,
      "outputs": []
    },
    {
      "cell_type": "code",
      "source": [
        "tuple() # tuple class 의 constructor(생성자) "
      ],
      "metadata": {
        "id": "BlLC1i-bGlp6"
      },
      "execution_count": null,
      "outputs": []
    },
    {
      "cell_type": "code",
      "source": [
        "len(tu) # built-in 내장함수 "
      ],
      "metadata": {
        "colab": {
          "base_uri": "https://localhost:8080/"
        },
        "id": "t2XqGS0yG8HZ",
        "outputId": "a218d812-7137-41af-aa2e-ab0896140e93"
      },
      "execution_count": 17,
      "outputs": [
        {
          "output_type": "execute_result",
          "data": {
            "text/plain": [
              "0"
            ]
          },
          "metadata": {},
          "execution_count": 17
        }
      ]
    },
    {
      "cell_type": "code",
      "source": [
        "(1) #tuple"
      ],
      "metadata": {
        "colab": {
          "base_uri": "https://localhost:8080/"
        },
        "id": "dwD0wZziHJ7C",
        "outputId": "28045f1b-e1ba-4b95-ed3c-6636ac0190e6"
      },
      "execution_count": 18,
      "outputs": [
        {
          "output_type": "execute_result",
          "data": {
            "text/plain": [
              "1"
            ]
          },
          "metadata": {},
          "execution_count": 18
        }
      ]
    },
    {
      "cell_type": "code",
      "source": [
        "tu = 1,2,3 #tuple ()가 없을때 , 로 tuple 인식 "
      ],
      "metadata": {
        "id": "L8uThYNvHKve"
      },
      "execution_count": 19,
      "outputs": []
    },
    {
      "cell_type": "code",
      "source": [
        "tu"
      ],
      "metadata": {
        "colab": {
          "base_uri": "https://localhost:8080/"
        },
        "id": "SPOvsDfQHQB6",
        "outputId": "2ad0d148-7004-48c4-e524-919080c34e77"
      },
      "execution_count": 21,
      "outputs": [
        {
          "output_type": "execute_result",
          "data": {
            "text/plain": [
              "(1, 2, 3)"
            ]
          },
          "metadata": {},
          "execution_count": 21
        }
      ]
    },
    {
      "cell_type": "code",
      "source": [
        "a,b,c = 5"
      ],
      "metadata": {
        "colab": {
          "base_uri": "https://localhost:8080/",
          "height": 174
        },
        "id": "J3Edai0FHWRT",
        "outputId": "bb069a71-3cfd-4aee-c10a-d2548d8bd9d0"
      },
      "execution_count": 22,
      "outputs": [
        {
          "output_type": "error",
          "ename": "TypeError",
          "evalue": "ignored",
          "traceback": [
            "\u001b[0;31m---------------------------------------------------------------------------\u001b[0m",
            "\u001b[0;31mTypeError\u001b[0m                                 Traceback (most recent call last)",
            "\u001b[0;32m<ipython-input-22-4e749b6e4bce>\u001b[0m in \u001b[0;36m<module>\u001b[0;34m\u001b[0m\n\u001b[0;32m----> 1\u001b[0;31m \u001b[0ma\u001b[0m\u001b[0;34m,\u001b[0m\u001b[0mb\u001b[0m\u001b[0;34m,\u001b[0m\u001b[0mc\u001b[0m \u001b[0;34m=\u001b[0m \u001b[0;36m5\u001b[0m\u001b[0;34m\u001b[0m\u001b[0;34m\u001b[0m\u001b[0m\n\u001b[0m",
            "\u001b[0;31mTypeError\u001b[0m: cannot unpack non-iterable int object"
          ]
        }
      ]
    },
    {
      "cell_type": "code",
      "source": [
        "a=b=c=d=5"
      ],
      "metadata": {
        "id": "3xgE2gp3HWOa"
      },
      "execution_count": 24,
      "outputs": []
    },
    {
      "cell_type": "code",
      "source": [
        "a,b,c,d"
      ],
      "metadata": {
        "colab": {
          "base_uri": "https://localhost:8080/"
        },
        "id": "K_ZqrA5mHWLq",
        "outputId": "26b48882-f34d-4c8b-f344-94d660180637"
      },
      "execution_count": 26,
      "outputs": [
        {
          "output_type": "execute_result",
          "data": {
            "text/plain": [
              "(5, 5, 5, 5)"
            ]
          },
          "metadata": {},
          "execution_count": 26
        }
      ]
    },
    {
      "cell_type": "code",
      "source": [
        "b = 6\n",
        "c = 7\n",
        "d = 8"
      ],
      "metadata": {
        "id": "N_qIeM6MIFma"
      },
      "execution_count": 28,
      "outputs": []
    },
    {
      "cell_type": "code",
      "source": [
        "a = b,c,d\n",
        "a"
      ],
      "metadata": {
        "colab": {
          "base_uri": "https://localhost:8080/"
        },
        "id": "2Cwcj_jsHWDy",
        "outputId": "7e1b99a5-d70e-4e9d-eb57-d3ecbefebf99"
      },
      "execution_count": 30,
      "outputs": [
        {
          "output_type": "execute_result",
          "data": {
            "text/plain": [
              "(6, 7, 8)"
            ]
          },
          "metadata": {},
          "execution_count": 30
        }
      ]
    },
    {
      "cell_type": "code",
      "source": [
        "a,b,c = [1,2,3,4,5] # 좌측 변수는 3개이나 우측 값은 5개 그래서 unpack이 되지 않는다."
      ],
      "metadata": {
        "colab": {
          "base_uri": "https://localhost:8080/",
          "height": 174
        },
        "id": "DBPvRbDhIEiS",
        "outputId": "fa3f7b30-f8e9-412c-e04a-798f0d7e4956"
      },
      "execution_count": 31,
      "outputs": [
        {
          "output_type": "error",
          "ename": "ValueError",
          "evalue": "ignored",
          "traceback": [
            "\u001b[0;31m---------------------------------------------------------------------------\u001b[0m",
            "\u001b[0;31mValueError\u001b[0m                                Traceback (most recent call last)",
            "\u001b[0;32m<ipython-input-31-d94fbf1fa77f>\u001b[0m in \u001b[0;36m<module>\u001b[0;34m\u001b[0m\n\u001b[0;32m----> 1\u001b[0;31m \u001b[0ma\u001b[0m\u001b[0;34m,\u001b[0m\u001b[0mb\u001b[0m\u001b[0;34m,\u001b[0m\u001b[0mc\u001b[0m \u001b[0;34m=\u001b[0m \u001b[0;34m[\u001b[0m\u001b[0;36m1\u001b[0m\u001b[0;34m,\u001b[0m\u001b[0;36m2\u001b[0m\u001b[0;34m,\u001b[0m\u001b[0;36m3\u001b[0m\u001b[0;34m,\u001b[0m\u001b[0;36m4\u001b[0m\u001b[0;34m,\u001b[0m\u001b[0;36m5\u001b[0m\u001b[0;34m]\u001b[0m\u001b[0;34m\u001b[0m\u001b[0;34m\u001b[0m\u001b[0m\n\u001b[0m",
            "\u001b[0;31mValueError\u001b[0m: too many values to unpack (expected 3)"
          ]
        }
      ]
    },
    {
      "cell_type": "code",
      "source": [
        "a,b,c,d,e = [1,2,3,4,5] # [element1,elements2, ... , elements5] pack 이다.\n",
        "print(a,b,c,d,e)"
      ],
      "metadata": {
        "colab": {
          "base_uri": "https://localhost:8080/"
        },
        "id": "NouGtKG1IEYC",
        "outputId": "e75e93b2-7983-4688-9ab3-4b8642a1e1bf"
      },
      "execution_count": 35,
      "outputs": [
        {
          "output_type": "stream",
          "name": "stdout",
          "text": [
            "1 2 3 4 5\n"
          ]
        }
      ]
    },
    {
      "cell_type": "code",
      "source": [
        "a, *b, c = [1,2,3,4,5]\n",
        "print(a, b, c) # *b (*를 붙여서 list로 만들어버린다.)\n",
        "a,b,c"
      ],
      "metadata": {
        "colab": {
          "base_uri": "https://localhost:8080/"
        },
        "id": "LUXwoAKcIEB6",
        "outputId": "44ad015a-fb84-47d6-9b9c-a9c12da1c02c"
      },
      "execution_count": 40,
      "outputs": [
        {
          "output_type": "stream",
          "name": "stdout",
          "text": [
            "1 [2, 3, 4] 5\n"
          ]
        },
        {
          "output_type": "execute_result",
          "data": {
            "text/plain": [
              "(1, [2, 3, 4], 5)"
            ]
          },
          "metadata": {},
          "execution_count": 40
        }
      ]
    },
    {
      "cell_type": "code",
      "source": [
        "strhello = \"helloworld\"\n",
        "strhello[-1] #len(strhello) + [-1] , 실제 index 값"
      ],
      "metadata": {
        "colab": {
          "base_uri": "https://localhost:8080/",
          "height": 35
        },
        "id": "rN96QGRKInrj",
        "outputId": "b79165dd-d343-403c-a5b5-8c9ddad01719"
      },
      "execution_count": 42,
      "outputs": [
        {
          "output_type": "execute_result",
          "data": {
            "text/plain": [
              "'d'"
            ],
            "application/vnd.google.colaboratory.intrinsic+json": {
              "type": "string"
            }
          },
          "metadata": {},
          "execution_count": 42
        }
      ]
    },
    {
      "cell_type": "markdown",
      "source": [
        "# 실습\n"
      ],
      "metadata": {
        "id": "eojJB61rJ2bi"
      }
    },
    {
      "cell_type": "code",
      "source": [
        "li = []\n",
        "\n",
        "for x in [1,2,3]:\n",
        "  for y in [10,20,30]:\n",
        "    li.append(x+y)\n"
      ],
      "metadata": {
        "id": "zdhmUY8LJKPj"
      },
      "execution_count": 43,
      "outputs": []
    },
    {
      "cell_type": "code",
      "source": [
        "li = [ (x,y) for x in [1,2,3] for y in [10,20,30] ]"
      ],
      "metadata": {
        "id": "eUwYiivIJS77"
      },
      "execution_count": 46,
      "outputs": []
    },
    {
      "cell_type": "markdown",
      "source": [
        "a, -> tuple 객체로 정의!\n"
      ],
      "metadata": {
        "id": "3x4Q4DY-Q_Fm"
      }
    },
    {
      "cell_type": "code",
      "source": [
        "*a, = b,c\n",
        "a"
      ],
      "metadata": {
        "colab": {
          "base_uri": "https://localhost:8080/"
        },
        "id": "vOPRPVRNRB5w",
        "outputId": "53a5f0bc-47a7-410a-c142-f71041bcc1a8"
      },
      "execution_count": 49,
      "outputs": [
        {
          "output_type": "execute_result",
          "data": {
            "text/plain": [
              "[[2, 3, 4], 5]"
            ]
          },
          "metadata": {},
          "execution_count": 49
        }
      ]
    },
    {
      "cell_type": "code",
      "source": [],
      "metadata": {
        "id": "8mKEIddWROYO"
      },
      "execution_count": 54,
      "outputs": []
    },
    {
      "cell_type": "code",
      "source": [],
      "metadata": {
        "colab": {
          "base_uri": "https://localhost:8080/"
        },
        "id": "jlE9tfgFRwkC",
        "outputId": "8e55fca1-94ff-40bf-8c37-3f77e8d5db40"
      },
      "execution_count": 55,
      "outputs": [
        {
          "output_type": "execute_result",
          "data": {
            "text/plain": [
              "6"
            ]
          },
          "metadata": {},
          "execution_count": 55
        }
      ]
    },
    {
      "cell_type": "code",
      "source": [],
      "metadata": {
        "colab": {
          "base_uri": "https://localhost:8080/"
        },
        "id": "n7z_T9YiRxYw",
        "outputId": "e6e70a28-a3fd-43cd-c290-864a463d7176"
      },
      "execution_count": 56,
      "outputs": [
        {
          "output_type": "execute_result",
          "data": {
            "text/plain": [
              "6"
            ]
          },
          "metadata": {},
          "execution_count": 56
        }
      ]
    },
    {
      "cell_type": "code",
      "source": [],
      "metadata": {
        "id": "TLCaUe0ERx8X"
      },
      "execution_count": null,
      "outputs": []
    }
  ]
}