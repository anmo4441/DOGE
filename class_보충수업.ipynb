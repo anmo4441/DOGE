{
  "nbformat": 4,
  "nbformat_minor": 0,
  "metadata": {
    "colab": {
      "provenance": [],
      "authorship_tag": "ABX9TyPtsI+EXRxm25UW2mx2Tg2W",
      "include_colab_link": true
    },
    "kernelspec": {
      "name": "python3",
      "display_name": "Python 3"
    },
    "language_info": {
      "name": "python"
    }
  },
  "cells": [
    {
      "cell_type": "markdown",
      "metadata": {
        "id": "view-in-github",
        "colab_type": "text"
      },
      "source": [
        "<a href=\"https://colab.research.google.com/github/anmo4441/DOGE/blob/main/class_%EB%B3%B4%EC%B6%A9%EC%88%98%EC%97%85.ipynb\" target=\"_parent\"><img src=\"https://colab.research.google.com/assets/colab-badge.svg\" alt=\"Open In Colab\"/></a>"
      ]
    },
    {
      "cell_type": "markdown",
      "source": [
        "# self"
      ],
      "metadata": {
        "id": "F1HMxpVMM_R7"
      }
    },
    {
      "cell_type": "code",
      "execution_count": null,
      "metadata": {
        "id": "X19Yt_USM5pd"
      },
      "outputs": [],
      "source": [
        "class Func :  # function of func class \n",
        "  def func1():\n",
        "    print(\"func1\")\n",
        "  def func2(self):\n",
        "    print(\"func2\")\n",
        "  def func3(self):\n",
        "    print(id(self))\n",
        "    \n",
        "  "
      ]
    },
    {
      "cell_type": "code",
      "source": [
        "id(f) # f가 할당된 메모리 주소를 출력, memory address allocation of object"
      ],
      "metadata": {
        "colab": {
          "base_uri": "https://localhost:8080/"
        },
        "id": "gIESCCmQN_UC",
        "outputId": "0185a9cb-c95b-4912-bfb6-a8cba9c1629e"
      },
      "execution_count": null,
      "outputs": [
        {
          "output_type": "execute_result",
          "data": {
            "text/plain": [
              "140040066206256"
            ]
          },
          "metadata": {},
          "execution_count": 5
        }
      ]
    },
    {
      "cell_type": "code",
      "source": [
        "f.func3() # self "
      ],
      "metadata": {
        "colab": {
          "base_uri": "https://localhost:8080/"
        },
        "id": "b7CV9RfXOaCS",
        "outputId": "0ce9761b-b074-4552-b19a-4c35b0196df7"
      },
      "execution_count": null,
      "outputs": [
        {
          "output_type": "stream",
          "name": "stdout",
          "text": [
            "140040066207216\n"
          ]
        }
      ]
    },
    {
      "cell_type": "code",
      "source": [
        "f = Func()\n"
      ],
      "metadata": {
        "id": "8r0wwjLtNLLi"
      },
      "execution_count": null,
      "outputs": []
    },
    {
      "cell_type": "code",
      "source": [
        "f.func1() #func1() takes 0 positional arguments but 1 was given"
      ],
      "metadata": {
        "colab": {
          "base_uri": "https://localhost:8080/",
          "height": 174
        },
        "id": "jjVCWy_nNMsR",
        "outputId": "2dc948a6-3048-483b-eea9-963aca559f15"
      },
      "execution_count": null,
      "outputs": [
        {
          "output_type": "error",
          "ename": "TypeError",
          "evalue": "ignored",
          "traceback": [
            "\u001b[0;31m---------------------------------------------------------------------------\u001b[0m",
            "\u001b[0;31mTypeError\u001b[0m                                 Traceback (most recent call last)",
            "\u001b[0;32m<ipython-input-3-3a71b7392b68>\u001b[0m in \u001b[0;36m<module>\u001b[0;34m\u001b[0m\n\u001b[0;32m----> 1\u001b[0;31m \u001b[0mf\u001b[0m\u001b[0;34m.\u001b[0m\u001b[0mfunc1\u001b[0m\u001b[0;34m(\u001b[0m\u001b[0;34m)\u001b[0m \u001b[0;31m#func1() takes 0 positional arguments but 1 was given\u001b[0m\u001b[0;34m\u001b[0m\u001b[0;34m\u001b[0m\u001b[0m\n\u001b[0m",
            "\u001b[0;31mTypeError\u001b[0m: func1() takes 0 positional arguments but 1 was given"
          ]
        }
      ]
    },
    {
      "cell_type": "code",
      "source": [
        "f.func2() # method of object of Func class"
      ],
      "metadata": {
        "id": "3ciRns2-NW3c"
      },
      "execution_count": null,
      "outputs": []
    },
    {
      "cell_type": "code",
      "source": [],
      "metadata": {
        "colab": {
          "base_uri": "https://localhost:8080/"
        },
        "id": "GWjhS2O3OWTK",
        "outputId": "24d4fbe6-5ad5-4e9c-c6b5-78777f134d73"
      },
      "execution_count": null,
      "outputs": [
        {
          "output_type": "stream",
          "name": "stdout",
          "text": [
            "140040066207216\n"
          ]
        }
      ]
    },
    {
      "cell_type": "markdown",
      "source": [
        "# 생성자"
      ],
      "metadata": {
        "id": "CxexKzAzO286"
      }
    },
    {
      "cell_type": "code",
      "source": [
        "class Klass : \n",
        "  # 아래와 같이 __new__ 생성자를 정의하지 않으면\n",
        "  # 디폴트 생성자가 호출된다.\n",
        "  def __new__(cls, name, age): # 생성자(Constructor)\n",
        "    print('객체가 생성됨')\n",
        "    return object.__new__(cls)\n",
        "\n",
        "  def __init__(self, name, age): # 생성자가 아니다, 초기화 함수이다.\n",
        "    self.name = name # 인스턴스의 속성[self.name]\n",
        "    self.age = age   # 인스턴스의 속성[self.age]\n",
        "    print('객체가 초기화됨')\n",
        "\n",
        "  def __del__(self): # 소멸자 (Destructor)\n",
        "    print(\"객체가 소멸됨\")\n",
        "    del self"
      ],
      "metadata": {
        "id": "RQwcrqroOWQ8"
      },
      "execution_count": null,
      "outputs": []
    },
    {
      "cell_type": "code",
      "source": [
        "k = Klass(\"Hyeseong\", 30)"
      ],
      "metadata": {
        "colab": {
          "base_uri": "https://localhost:8080/"
        },
        "id": "j75FDpS8OWOC",
        "outputId": "30f9e740-5c02-43ec-a3e2-962a03bf784c"
      },
      "execution_count": null,
      "outputs": [
        {
          "output_type": "stream",
          "name": "stdout",
          "text": [
            "객체가 생성됨\n",
            "객체가 초기화됨\n"
          ]
        }
      ]
    },
    {
      "cell_type": "code",
      "source": [
        "k"
      ],
      "metadata": {
        "colab": {
          "base_uri": "https://localhost:8080/"
        },
        "id": "iKTdTejaSgN7",
        "outputId": "5f8a4dfb-2d81-4213-dbfb-7bb1619ecc5b"
      },
      "execution_count": null,
      "outputs": [
        {
          "output_type": "execute_result",
          "data": {
            "text/plain": [
              "<__main__.Klass at 0x7f5d9cbd59a0>"
            ]
          },
          "metadata": {},
          "execution_count": 46
        }
      ]
    },
    {
      "cell_type": "code",
      "source": [
        "del k "
      ],
      "metadata": {
        "id": "hghs29TgOWLz"
      },
      "execution_count": null,
      "outputs": []
    },
    {
      "cell_type": "code",
      "source": [
        "k"
      ],
      "metadata": {
        "colab": {
          "base_uri": "https://localhost:8080/",
          "height": 174
        },
        "id": "wWHWxgkDOWIS",
        "outputId": "3b8ca3a9-a3ae-4438-8c40-f8456b97063c"
      },
      "execution_count": null,
      "outputs": [
        {
          "output_type": "error",
          "ename": "NameError",
          "evalue": "ignored",
          "traceback": [
            "\u001b[0;31m---------------------------------------------------------------------------\u001b[0m",
            "\u001b[0;31mNameError\u001b[0m                                 Traceback (most recent call last)",
            "\u001b[0;32m<ipython-input-37-141b3ea3f03f>\u001b[0m in \u001b[0;36m<module>\u001b[0;34m\u001b[0m\n\u001b[0;32m----> 1\u001b[0;31m \u001b[0mk\u001b[0m\u001b[0;34m\u001b[0m\u001b[0;34m\u001b[0m\u001b[0m\n\u001b[0m",
            "\u001b[0;31mNameError\u001b[0m: name 'k' is not defined"
          ]
        }
      ]
    },
    {
      "cell_type": "code",
      "source": [
        "k = Klass(\"Hyeseong\", 30)"
      ],
      "metadata": {
        "colab": {
          "base_uri": "https://localhost:8080/"
        },
        "id": "A0VTq9JLOWFz",
        "outputId": "a702abc3-6da9-47b9-ff3c-fd3fa0a0adab"
      },
      "execution_count": null,
      "outputs": [
        {
          "output_type": "stream",
          "name": "stdout",
          "text": [
            "객체가 생성됨\n",
            "객체가 초기화됨\n"
          ]
        }
      ]
    },
    {
      "cell_type": "code",
      "source": [
        "k"
      ],
      "metadata": {
        "colab": {
          "base_uri": "https://localhost:8080/"
        },
        "id": "aOcy5kfIRH1R",
        "outputId": "6b17519b-cced-45d9-f831-9869015ee71b"
      },
      "execution_count": null,
      "outputs": [
        {
          "output_type": "execute_result",
          "data": {
            "text/plain": [
              "<__main__.Klass at 0x7f5d9cbd4100>"
            ]
          },
          "metadata": {},
          "execution_count": 39
        }
      ]
    },
    {
      "cell_type": "code",
      "source": [
        "li = [1,2,3,4]"
      ],
      "metadata": {
        "id": "33dlZa6WRMN8"
      },
      "execution_count": null,
      "outputs": []
    },
    {
      "cell_type": "code",
      "source": [
        "del li"
      ],
      "metadata": {
        "id": "k6ZpDeIHRO6H"
      },
      "execution_count": null,
      "outputs": []
    },
    {
      "cell_type": "code",
      "source": [
        "li"
      ],
      "metadata": {
        "colab": {
          "base_uri": "https://localhost:8080/",
          "height": 174
        },
        "id": "E4qhkYOoRSzg",
        "outputId": "3223ab54-9a05-4320-8522-ca65ee287f81"
      },
      "execution_count": null,
      "outputs": [
        {
          "output_type": "error",
          "ename": "NameError",
          "evalue": "ignored",
          "traceback": [
            "\u001b[0;31m---------------------------------------------------------------------------\u001b[0m",
            "\u001b[0;31mNameError\u001b[0m                                 Traceback (most recent call last)",
            "\u001b[0;32m<ipython-input-42-3fab4c9c2cf3>\u001b[0m in \u001b[0;36m<module>\u001b[0;34m\u001b[0m\n\u001b[0;32m----> 1\u001b[0;31m \u001b[0mli\u001b[0m\u001b[0;34m\u001b[0m\u001b[0;34m\u001b[0m\u001b[0m\n\u001b[0m",
            "\u001b[0;31mNameError\u001b[0m: name 'li' is not defined"
          ]
        }
      ]
    },
    {
      "cell_type": "markdown",
      "source": [
        "# 클래스 속성(Class Atrribute) 과 인스턴스 속성"
      ],
      "metadata": {
        "id": "J0YwostTTDWZ"
      }
    },
    {
      "cell_type": "code",
      "source": [
        "class Accounts: \n",
        "  num_accounts = 0 # 클래스 속성 \n",
        "\n",
        "  def __init__(self ,name):\n",
        "    self.name  = name #self.name \n",
        "    Accounts.num_accounts += 1\n",
        "    print(\"init\",Accounts.num_accounts)\n",
        "\n",
        "  def __del__(self):\n",
        "    Accounts.num_accounts -= 1\n",
        "    print(\"__del__\", Accounts.num_accounts)\n",
        "\n"
      ],
      "metadata": {
        "id": "X65FXLHQRTDk"
      },
      "execution_count": 1,
      "outputs": []
    },
    {
      "cell_type": "code",
      "source": [
        "oh = Accounts('oh')"
      ],
      "metadata": {
        "colab": {
          "base_uri": "https://localhost:8080/"
        },
        "id": "spiqgHCiTXNX",
        "outputId": "7498ff88-b46d-47bd-99c3-e15e2dc39205"
      },
      "execution_count": 2,
      "outputs": [
        {
          "output_type": "stream",
          "name": "stdout",
          "text": [
            "init 1\n"
          ]
        }
      ]
    },
    {
      "cell_type": "code",
      "source": [
        "park = Accounts('park')"
      ],
      "metadata": {
        "colab": {
          "base_uri": "https://localhost:8080/"
        },
        "id": "zU7gnOdSTaNk",
        "outputId": "5f18c4eb-af6e-49e2-cfc9-f9ee957b496c"
      },
      "execution_count": 3,
      "outputs": [
        {
          "output_type": "stream",
          "name": "stdout",
          "text": [
            "init 2\n"
          ]
        }
      ]
    },
    {
      "cell_type": "code",
      "source": [
        "oh.num_accounts"
      ],
      "metadata": {
        "colab": {
          "base_uri": "https://localhost:8080/"
        },
        "id": "BlpiBYZtTfV6",
        "outputId": "5a4ed34e-5076-4eba-e6a8-404c4462d542"
      },
      "execution_count": 4,
      "outputs": [
        {
          "output_type": "execute_result",
          "data": {
            "text/plain": [
              "2"
            ]
          },
          "metadata": {},
          "execution_count": 4
        }
      ]
    },
    {
      "cell_type": "code",
      "source": [
        "park.num_accounts"
      ],
      "metadata": {
        "id": "rsssBva_U6Nh",
        "colab": {
          "base_uri": "https://localhost:8080/"
        },
        "outputId": "2ae0a3a2-135e-426f-d32e-8dce90808de2"
      },
      "execution_count": 5,
      "outputs": [
        {
          "output_type": "execute_result",
          "data": {
            "text/plain": [
              "2"
            ]
          },
          "metadata": {},
          "execution_count": 5
        }
      ]
    },
    {
      "cell_type": "code",
      "source": [
        "Accounts.num_accounts"
      ],
      "metadata": {
        "colab": {
          "base_uri": "https://localhost:8080/"
        },
        "id": "8dOz8CZJWQVh",
        "outputId": "2b9e379d-6998-41f3-e129-bbffbeeb188a"
      },
      "execution_count": 6,
      "outputs": [
        {
          "output_type": "execute_result",
          "data": {
            "text/plain": [
              "2"
            ]
          },
          "metadata": {},
          "execution_count": 6
        }
      ]
    },
    {
      "cell_type": "code",
      "source": [
        "import types"
      ],
      "metadata": {
        "id": "SH3pfKXcXj_I"
      },
      "execution_count": 7,
      "outputs": []
    },
    {
      "cell_type": "code",
      "source": [
        "class Method : \n",
        "  def __init__(self, name):\n",
        "    self.name = name\n",
        "\n",
        "  def getName(self):\n",
        "    return self.name"
      ],
      "metadata": {
        "id": "F5t6nEriXlRP"
      },
      "execution_count": 8,
      "outputs": []
    },
    {
      "cell_type": "code",
      "source": [
        "m = Method(\"메소드\")\n"
      ],
      "metadata": {
        "id": "ECD7ESoTXtQx"
      },
      "execution_count": 9,
      "outputs": []
    },
    {
      "cell_type": "code",
      "source": [
        "m.getName()"
      ],
      "metadata": {
        "colab": {
          "base_uri": "https://localhost:8080/",
          "height": 35
        },
        "id": "VhgwuE7xeQYG",
        "outputId": "fd1239b0-8e41-4762-db01-7d961bbdcd70"
      },
      "execution_count": 20,
      "outputs": [
        {
          "output_type": "execute_result",
          "data": {
            "text/plain": [
              "'메소드'"
            ],
            "application/vnd.google.colaboratory.intrinsic+json": {
              "type": "string"
            }
          },
          "metadata": {},
          "execution_count": 20
        }
      ]
    },
    {
      "cell_type": "code",
      "source": [
        "Method.getName(m)"
      ],
      "metadata": {
        "colab": {
          "base_uri": "https://localhost:8080/",
          "height": 35
        },
        "id": "rI0tWCBgeDw2",
        "outputId": "88351fa7-9aee-428b-ff53-0f0210128d4f"
      },
      "execution_count": 19,
      "outputs": [
        {
          "output_type": "execute_result",
          "data": {
            "text/plain": [
              "'메소드'"
            ],
            "application/vnd.google.colaboratory.intrinsic+json": {
              "type": "string"
            }
          },
          "metadata": {},
          "execution_count": 19
        }
      ]
    },
    {
      "cell_type": "code",
      "source": [
        "isinstance(Method.__init__, types.FunctionType)"
      ],
      "metadata": {
        "colab": {
          "base_uri": "https://localhost:8080/"
        },
        "id": "Fa661_rwXv4Z",
        "outputId": "f9bb4b2a-dc51-4751-b549-9b5de423889c"
      },
      "execution_count": 14,
      "outputs": [
        {
          "output_type": "execute_result",
          "data": {
            "text/plain": [
              "True"
            ]
          },
          "metadata": {},
          "execution_count": 14
        }
      ]
    },
    {
      "cell_type": "code",
      "source": [
        "isinstance(Method.getName, types.FunctionType)"
      ],
      "metadata": {
        "colab": {
          "base_uri": "https://localhost:8080/"
        },
        "id": "yqtxlhyQclJn",
        "outputId": "e3b96cf8-1a10-499f-83d3-11a8b39f92fe"
      },
      "execution_count": 15,
      "outputs": [
        {
          "output_type": "execute_result",
          "data": {
            "text/plain": [
              "True"
            ]
          },
          "metadata": {},
          "execution_count": 15
        }
      ]
    },
    {
      "cell_type": "code",
      "source": [
        "isinstance(m.getName, types.FunctionType)"
      ],
      "metadata": {
        "colab": {
          "base_uri": "https://localhost:8080/"
        },
        "id": "zr4q6sebcoXu",
        "outputId": "8d7d97e3-64c8-4579-c17f-149ade3e668a"
      },
      "execution_count": 16,
      "outputs": [
        {
          "output_type": "execute_result",
          "data": {
            "text/plain": [
              "False"
            ]
          },
          "metadata": {},
          "execution_count": 16
        }
      ]
    },
    {
      "cell_type": "code",
      "source": [
        "isinstance(m.getName, types.MethodType)"
      ],
      "metadata": {
        "colab": {
          "base_uri": "https://localhost:8080/"
        },
        "id": "sCC8F5cjcs0P",
        "outputId": "bd0ab94f-0bf8-4fb7-a845-9137ec461031"
      },
      "execution_count": 17,
      "outputs": [
        {
          "output_type": "execute_result",
          "data": {
            "text/plain": [
              "True"
            ]
          },
          "metadata": {},
          "execution_count": 17
        }
      ]
    },
    {
      "cell_type": "markdown",
      "source": [
        "# Class Method\n"
      ],
      "metadata": {
        "id": "SCJj19YmsMmS"
      }
    },
    {
      "cell_type": "code",
      "source": [
        "class CMethod : \n",
        "  _name = \"Class Atrribute\"\n",
        "\n",
        "  def __init__(self, name):\n",
        "    self._name = name\n",
        "\n",
        "  @classmethod \n",
        "  def name(cls) : # class method / cls = CMethod \n",
        "    return cls._name"
      ],
      "metadata": {
        "id": "pmAgCd7Tcioz"
      },
      "execution_count": 24,
      "outputs": []
    },
    {
      "cell_type": "code",
      "source": [
        "# psuedo code (의사코드) : 짝퉁코드, 설명방식 "
      ],
      "metadata": {
        "id": "c5DfWBhqeCTH"
      },
      "execution_count": null,
      "outputs": []
    },
    {
      "cell_type": "code",
      "source": [
        "CMethod.name()"
      ],
      "metadata": {
        "colab": {
          "base_uri": "https://localhost:8080/",
          "height": 35
        },
        "id": "wW7WmKTxeCOf",
        "outputId": "43743943-979f-4770-d72c-3687264cfe6d"
      },
      "execution_count": 25,
      "outputs": [
        {
          "output_type": "execute_result",
          "data": {
            "text/plain": [
              "'Class Atrribute'"
            ],
            "application/vnd.google.colaboratory.intrinsic+json": {
              "type": "string"
            }
          },
          "metadata": {},
          "execution_count": 25
        }
      ]
    },
    {
      "cell_type": "markdown",
      "source": [
        "# Static Method"
      ],
      "metadata": {
        "id": "Bltr18hwsIyr"
      }
    },
    {
      "cell_type": "code",
      "source": [
        "class SMethod : \n",
        "  _name = \"Class Atrribute\"\n",
        "    \n",
        "  def __init__(self, name):\n",
        "    self._name = name\n",
        "\n",
        "  @staticmethod \n",
        "  def name(cls) :  \n",
        "    return cls._name\n",
        "\n",
        "  @staticmethod \n",
        "  def getName(self) :  \n",
        "    return self._name\n",
        "\n",
        "  @staticmethod \n",
        "  def func(x, y) : \n",
        "    return x + y"
      ],
      "metadata": {
        "id": "MMjzNNQ6eCHg"
      },
      "execution_count": 49,
      "outputs": []
    },
    {
      "cell_type": "code",
      "source": [
        "SMethod.name(SMethod)"
      ],
      "metadata": {
        "colab": {
          "base_uri": "https://localhost:8080/",
          "height": 35
        },
        "id": "BVVF_QsneCA8",
        "outputId": "7c2bfdbc-4886-4cac-bf15-1cc8620a23cb"
      },
      "execution_count": 51,
      "outputs": [
        {
          "output_type": "execute_result",
          "data": {
            "text/plain": [
              "'Class Atrribute'"
            ],
            "application/vnd.google.colaboratory.intrinsic+json": {
              "type": "string"
            }
          },
          "metadata": {},
          "execution_count": 51
        }
      ]
    },
    {
      "cell_type": "code",
      "source": [
        "SMethod.getName(SMethod(\"Static Method Function\"))"
      ],
      "metadata": {
        "id": "Ct1BfLWyjrNF",
        "outputId": "bf04b11b-73a3-42d4-ecaa-9d995590a65d",
        "colab": {
          "base_uri": "https://localhost:8080/",
          "height": 35
        }
      },
      "execution_count": 50,
      "outputs": [
        {
          "output_type": "execute_result",
          "data": {
            "text/plain": [
              "'Static Method Function'"
            ],
            "application/vnd.google.colaboratory.intrinsic+json": {
              "type": "string"
            }
          },
          "metadata": {},
          "execution_count": 50
        }
      ]
    },
    {
      "cell_type": "code",
      "source": [
        "SMethod.func(3,4)"
      ],
      "metadata": {
        "id": "6hZq7QUCjrKV",
        "outputId": "15a44c9d-4dd5-46e4-b95f-9ada0323f7d6",
        "colab": {
          "base_uri": "https://localhost:8080/"
        }
      },
      "execution_count": 52,
      "outputs": [
        {
          "output_type": "execute_result",
          "data": {
            "text/plain": [
              "7"
            ]
          },
          "metadata": {},
          "execution_count": 52
        }
      ]
    },
    {
      "cell_type": "code",
      "source": [
        "li = [1,2,3,4]\n",
        "li.append(5)\n",
        "li"
      ],
      "metadata": {
        "id": "4xtMES6NjrHt",
        "outputId": "8d432af1-60c6-48e3-ebb5-46765c2a2994",
        "colab": {
          "base_uri": "https://localhost:8080/"
        }
      },
      "execution_count": 44,
      "outputs": [
        {
          "output_type": "execute_result",
          "data": {
            "text/plain": [
              "[1, 2, 3, 4, 5]"
            ]
          },
          "metadata": {},
          "execution_count": 44
        }
      ]
    },
    {
      "cell_type": "code",
      "source": [
        "list.append(li, 6)\n",
        "li"
      ],
      "metadata": {
        "id": "96AiMmBRjrFV",
        "outputId": "0a00f543-9958-4363-a582-98cda4fb284e",
        "colab": {
          "base_uri": "https://localhost:8080/"
        }
      },
      "execution_count": 45,
      "outputs": [
        {
          "output_type": "execute_result",
          "data": {
            "text/plain": [
              "[1, 2, 3, 4, 5, 6]"
            ]
          },
          "metadata": {},
          "execution_count": 45
        }
      ]
    },
    {
      "cell_type": "markdown",
      "source": [
        "# Name Mangling\n"
      ],
      "metadata": {
        "id": "4IxUGjLDpTS7"
      }
    },
    {
      "cell_type": "code",
      "source": [
        "class Naming__ : \n",
        "  def __init__(self, name, age):\n",
        "    self._name = name\n",
        "    self._age = age\n",
        "\n",
        "  def __getName(self): # 외부에서 사용할 수 없도록 이름 앞에 __ 붙인것이다.\n",
        "    return self._name\n",
        "\n",
        "  def __getAge(self): # 맹글링 \n",
        "    return self._age\n",
        "\n",
        "  def getAttr(self):\n",
        "    return self.__getName(), self.__getAge()\n",
        "\n"
      ],
      "metadata": {
        "id": "7ndlLYGgjq8t"
      },
      "execution_count": 61,
      "outputs": []
    },
    {
      "cell_type": "code",
      "source": [
        "n = Naming__(\"oh\", 30)\n"
      ],
      "metadata": {
        "id": "rHN5dkfEp-Le"
      },
      "execution_count": 62,
      "outputs": []
    },
    {
      "cell_type": "code",
      "source": [
        "n.__getName()"
      ],
      "metadata": {
        "id": "3mkJ3QvkrSTL"
      },
      "execution_count": null,
      "outputs": []
    },
    {
      "cell_type": "code",
      "source": [
        "n.getAttr()"
      ],
      "metadata": {
        "id": "K18iSnz0rTzG",
        "outputId": "f2a347cc-520a-4967-b95c-6a33df6ab879",
        "colab": {
          "base_uri": "https://localhost:8080/"
        }
      },
      "execution_count": 63,
      "outputs": [
        {
          "output_type": "execute_result",
          "data": {
            "text/plain": [
              "('oh', 30)"
            ]
          },
          "metadata": {},
          "execution_count": 63
        }
      ]
    },
    {
      "cell_type": "markdown",
      "source": [
        "# Property\n"
      ],
      "metadata": {
        "id": "LU4ZA7ZBsWcy"
      }
    },
    {
      "cell_type": "markdown",
      "source": [],
      "metadata": {
        "id": "bE3gmzjssYWi"
      }
    },
    {
      "cell_type": "code",
      "source": [
        "class Klass : \n",
        "  @property \n",
        "  def name(self):\n",
        "    print(\"This is name\")\n",
        "    "
      ],
      "metadata": {
        "id": "0bx6kLdirhgI"
      },
      "execution_count": 64,
      "outputs": []
    },
    {
      "cell_type": "code",
      "source": [
        "k = Klass()\n",
        "k.name"
      ],
      "metadata": {
        "id": "2wbFUDp_soBY",
        "outputId": "f44a60dc-16d4-4f33-b3ed-1bf1e571c6c8",
        "colab": {
          "base_uri": "https://localhost:8080/"
        }
      },
      "execution_count": 65,
      "outputs": [
        {
          "output_type": "stream",
          "name": "stdout",
          "text": [
            "This is name\n"
          ]
        }
      ]
    },
    {
      "cell_type": "code",
      "source": [
        "class Property : \n",
        "  def __init__(self, name, age):\n",
        "    self._name = name\n",
        "    self._age = age\n",
        "\n",
        "  @property \n",
        "  def name(self):\n",
        "    return self._name\n",
        "    \n",
        "  @property \n",
        "  def age(self):\n",
        "    return self._age\n",
        "   \n",
        "  def getAttr(self):\n",
        "    return self.name, self.age\n",
        "\n",
        "  \n"
      ],
      "metadata": {
        "id": "LamYvrnvsqz4"
      },
      "execution_count": 66,
      "outputs": []
    },
    {
      "cell_type": "code",
      "source": [
        "p = Property(\"oh\", 30)\n",
        "p.name"
      ],
      "metadata": {
        "id": "SV1ScaNYtYpT",
        "outputId": "5be8ae4c-24ea-449d-98ff-13d27e683e8f",
        "colab": {
          "base_uri": "https://localhost:8080/",
          "height": 35
        }
      },
      "execution_count": 67,
      "outputs": [
        {
          "output_type": "execute_result",
          "data": {
            "text/plain": [
              "'oh'"
            ],
            "application/vnd.google.colaboratory.intrinsic+json": {
              "type": "string"
            }
          },
          "metadata": {},
          "execution_count": 67
        }
      ]
    },
    {
      "cell_type": "code",
      "source": [
        "p.age"
      ],
      "metadata": {
        "id": "Rh7ZqK6stchv",
        "outputId": "c25a5d85-27fc-4e60-fff7-7a862e037d88",
        "colab": {
          "base_uri": "https://localhost:8080/"
        }
      },
      "execution_count": 68,
      "outputs": [
        {
          "output_type": "execute_result",
          "data": {
            "text/plain": [
              "30"
            ]
          },
          "metadata": {},
          "execution_count": 68
        }
      ]
    },
    {
      "cell_type": "code",
      "source": [
        "p.getAttr()"
      ],
      "metadata": {
        "id": "2sCBU2Tbtd9H",
        "outputId": "476b056d-033c-4414-c314-852e668af33a",
        "colab": {
          "base_uri": "https://localhost:8080/"
        }
      },
      "execution_count": 70,
      "outputs": [
        {
          "output_type": "execute_result",
          "data": {
            "text/plain": [
              "('oh', 30)"
            ]
          },
          "metadata": {},
          "execution_count": 70
        }
      ]
    },
    {
      "cell_type": "code",
      "source": [
        "class Property : \n",
        "  def __init__(self, name, age):\n",
        "    self._name = name\n",
        "    self._age = age\n",
        "\n",
        "  @property  # getter\n",
        "  def name(self):\n",
        "    return self._name\n",
        "    \n",
        "  @name.setter # setter\n",
        "  def name(self, name):\n",
        "   self._name = name\n",
        "   \n",
        "  @name.deleter\n",
        "  def name(self):\n",
        "    del self._name\n",
        "    \n"
      ],
      "metadata": {
        "id": "DIxfSjN-te_a"
      },
      "execution_count": 89,
      "outputs": []
    },
    {
      "cell_type": "code",
      "source": [
        "p__ = Property(\"oh\",30)"
      ],
      "metadata": {
        "id": "r5sQwwX3tyJi"
      },
      "execution_count": 85,
      "outputs": []
    },
    {
      "cell_type": "code",
      "source": [
        "p__.name"
      ],
      "metadata": {
        "id": "1HeqCKFNuF7M",
        "outputId": "2857c9fe-19db-48ae-f5c3-ba198565c6d9",
        "colab": {
          "base_uri": "https://localhost:8080/",
          "height": 35
        }
      },
      "execution_count": 86,
      "outputs": [
        {
          "output_type": "execute_result",
          "data": {
            "text/plain": [
              "'oh'"
            ],
            "application/vnd.google.colaboratory.intrinsic+json": {
              "type": "string"
            }
          },
          "metadata": {},
          "execution_count": 86
        }
      ]
    },
    {
      "cell_type": "code",
      "source": [
        "p__.name = \"kim\""
      ],
      "metadata": {
        "id": "8cnrfHAIuRCd"
      },
      "execution_count": 87,
      "outputs": []
    },
    {
      "cell_type": "code",
      "source": [
        "del p__.name"
      ],
      "metadata": {
        "id": "ym7ayyN2uV7H"
      },
      "execution_count": 90,
      "outputs": []
    },
    {
      "cell_type": "code",
      "source": [
        "p__.name"
      ],
      "metadata": {
        "id": "2mtcFpFZueao",
        "outputId": "fe396c2a-2566-45b3-c2fe-a8e269f570a0",
        "colab": {
          "base_uri": "https://localhost:8080/",
          "height": 174
        }
      },
      "execution_count": 1,
      "outputs": [
        {
          "output_type": "error",
          "ename": "NameError",
          "evalue": "ignored",
          "traceback": [
            "\u001b[0;31m---------------------------------------------------------------------------\u001b[0m",
            "\u001b[0;31mNameError\u001b[0m                                 Traceback (most recent call last)",
            "\u001b[0;32m<ipython-input-1-c04c0bfb3615>\u001b[0m in \u001b[0;36m<module>\u001b[0;34m\u001b[0m\n\u001b[0;32m----> 1\u001b[0;31m \u001b[0mp__\u001b[0m\u001b[0;34m.\u001b[0m\u001b[0mname\u001b[0m\u001b[0;34m\u001b[0m\u001b[0;34m\u001b[0m\u001b[0m\n\u001b[0m",
            "\u001b[0;31mNameError\u001b[0m: name 'p__' is not defined"
          ]
        }
      ]
    },
    {
      "cell_type": "markdown",
      "source": [
        "# 상속(Inheritance)\n"
      ],
      "metadata": {
        "id": "4J8uNfySM9IX"
      }
    },
    {
      "cell_type": "code",
      "source": [
        "class Parent : \n",
        "  def __init__(self, name) : \n",
        "    self.name = name \n",
        "\n",
        "  "
      ],
      "metadata": {
        "id": "3tHMzv9GvGqS"
      },
      "execution_count": 2,
      "outputs": []
    },
    {
      "cell_type": "code",
      "source": [
        "class Child(Parent) : # Child 클래스가 Parent 클래스를 상속했다.\n",
        "  pass\n"
      ],
      "metadata": {
        "id": "Rk2XlaFTNIYg"
      },
      "execution_count": 4,
      "outputs": []
    },
    {
      "cell_type": "code",
      "source": [
        "c = Child(\"oh\")\n",
        "c.name"
      ],
      "metadata": {
        "id": "bd59k51hNRWu",
        "outputId": "129e045f-eb7c-4e7d-dc80-9e4912cc75eb",
        "colab": {
          "base_uri": "https://localhost:8080/",
          "height": 35
        }
      },
      "execution_count": 11,
      "outputs": [
        {
          "output_type": "execute_result",
          "data": {
            "text/plain": [
              "'oh'"
            ],
            "application/vnd.google.colaboratory.intrinsic+json": {
              "type": "string"
            }
          },
          "metadata": {},
          "execution_count": 11
        }
      ]
    },
    {
      "cell_type": "code",
      "source": [
        "class Child(Parent) : # Child 클래스가 Parent 클래스를 상속했다.\n",
        "  def __init__(self, name, age):\n",
        "    super().__init__(name)\n",
        "    self.age = age\n",
        "\n",
        "  pass\n"
      ],
      "metadata": {
        "id": "LaSReNKGN05t"
      },
      "execution_count": 12,
      "outputs": []
    },
    {
      "cell_type": "code",
      "source": [
        "c = Child(\"oh\", 30)"
      ],
      "metadata": {
        "id": "Ga-0AvmDN5Vk"
      },
      "execution_count": 13,
      "outputs": []
    },
    {
      "cell_type": "code",
      "source": [
        "c.age"
      ],
      "metadata": {
        "id": "E3x1xqN0N5TH",
        "outputId": "18047258-fe63-471b-8aa4-19a2299c005d",
        "colab": {
          "base_uri": "https://localhost:8080/"
        }
      },
      "execution_count": 14,
      "outputs": [
        {
          "output_type": "execute_result",
          "data": {
            "text/plain": [
              "30"
            ]
          },
          "metadata": {},
          "execution_count": 14
        }
      ]
    },
    {
      "cell_type": "code",
      "source": [
        "c.name"
      ],
      "metadata": {
        "id": "tUk8zQdrN5Q_",
        "outputId": "752aa84f-9374-46d8-d3ac-48ff620d6999",
        "colab": {
          "base_uri": "https://localhost:8080/",
          "height": 35
        }
      },
      "execution_count": 15,
      "outputs": [
        {
          "output_type": "execute_result",
          "data": {
            "text/plain": [
              "'oh'"
            ],
            "application/vnd.google.colaboratory.intrinsic+json": {
              "type": "string"
            }
          },
          "metadata": {},
          "execution_count": 15
        }
      ]
    },
    {
      "cell_type": "code",
      "source": [
        "class Parent:\n",
        "  name = \"Parent\"\n",
        "  def print_name(self) : \n",
        "    print(\"Parent\")"
      ],
      "metadata": {
        "id": "peOeGHfsQu1G"
      },
      "execution_count": 28,
      "outputs": []
    },
    {
      "cell_type": "code",
      "source": [
        "class Child(Parent):\n",
        "  name = \"Child\" # overring 대상이 아님 (속성이기 때문에)\n",
        "  def print_name(self) : # overriding 대상 \n",
        "    print(\"Child\")"
      ],
      "metadata": {
        "id": "ByO17TKvQus2"
      },
      "execution_count": 29,
      "outputs": []
    },
    {
      "cell_type": "code",
      "source": [
        "ch = Child()"
      ],
      "metadata": {
        "id": "8-PlnD7uQ2_-"
      },
      "execution_count": 30,
      "outputs": []
    },
    {
      "cell_type": "code",
      "source": [
        "ch.print_name()"
      ],
      "metadata": {
        "id": "wshX5-SIQ5RG",
        "outputId": "09318cd1-88c3-4363-8854-8943e5220cad",
        "colab": {
          "base_uri": "https://localhost:8080/"
        }
      },
      "execution_count": 31,
      "outputs": [
        {
          "output_type": "stream",
          "name": "stdout",
          "text": [
            "Child\n"
          ]
        }
      ]
    },
    {
      "cell_type": "markdown",
      "source": [
        "# Class Object Attribute : Class object"
      ],
      "metadata": {
        "id": "OlF8hkW0OjIX"
      }
    },
    {
      "cell_type": "code",
      "source": [
        "class Association :\n",
        "  # default constructor \n",
        "  # No Define __init__\n",
        "  def other_init(self, other, name):\n",
        "    other.name = name"
      ],
      "metadata": {
        "id": "ecKi77x4O-K-"
      },
      "execution_count": 18,
      "outputs": []
    },
    {
      "cell_type": "code",
      "source": [
        "class Client : \n",
        "  def __init__(self, name, age):\n",
        "    # self.name = name \n",
        "    _name = Association()\n",
        "    _name.other_init(self, name)\n",
        "    self.age = age\n",
        "\n",
        "  pass\n"
      ],
      "metadata": {
        "id": "_jLWcoK6N5Ow"
      },
      "execution_count": 20,
      "outputs": []
    },
    {
      "cell_type": "code",
      "source": [
        "cl = Client(\"Hyeseong\", 30)"
      ],
      "metadata": {
        "id": "3l1op4mLPwSv"
      },
      "execution_count": 22,
      "outputs": []
    },
    {
      "cell_type": "code",
      "source": [
        "cl.name"
      ],
      "metadata": {
        "id": "OvWGBNhVPwKm",
        "outputId": "a65ebe45-d024-40a1-f15d-5831d6cf2646",
        "colab": {
          "base_uri": "https://localhost:8080/",
          "height": 35
        }
      },
      "execution_count": 23,
      "outputs": [
        {
          "output_type": "execute_result",
          "data": {
            "text/plain": [
              "'Hyeseong'"
            ],
            "application/vnd.google.colaboratory.intrinsic+json": {
              "type": "string"
            }
          },
          "metadata": {},
          "execution_count": 23
        }
      ]
    },
    {
      "cell_type": "markdown",
      "source": [
        "# Overriding"
      ],
      "metadata": {
        "id": "q1lij1sKRqIO"
      }
    },
    {
      "cell_type": "markdown",
      "source": [
        "## Method overridng"
      ],
      "metadata": {
        "id": "J5PWdVFqRu-O"
      }
    },
    {
      "cell_type": "code",
      "source": [
        "class Animal:\n",
        "  def say(self, message): # over-riding 했다. \n",
        "    return message "
      ],
      "metadata": {
        "id": "fDchsDJHN5MO"
      },
      "execution_count": 32,
      "outputs": []
    },
    {
      "cell_type": "code",
      "source": [
        "class Dog(Animal):\n",
        "  def say(self, message):\n",
        "    print(\"This is dog:\", message)"
      ],
      "metadata": {
        "id": "MUt7yTalN5Am"
      },
      "execution_count": 33,
      "outputs": []
    },
    {
      "cell_type": "code",
      "source": [
        "class Bird(Animal) :\n",
        "  def say(self, message):\n",
        "    print(\"This is Bird\", message)"
      ],
      "metadata": {
        "id": "0mPMd67oN42_"
      },
      "execution_count": 38,
      "outputs": []
    },
    {
      "cell_type": "code",
      "source": [
        "animal = Animal()"
      ],
      "metadata": {
        "id": "A6CPQI1WSa_I"
      },
      "execution_count": 39,
      "outputs": []
    },
    {
      "cell_type": "code",
      "source": [
        "animal.say(\"EEEEE\")"
      ],
      "metadata": {
        "id": "g31zD9V1SopN",
        "outputId": "163a1d43-dafa-4a4b-94ca-864e6e45010f",
        "colab": {
          "base_uri": "https://localhost:8080/",
          "height": 35
        }
      },
      "execution_count": 42,
      "outputs": [
        {
          "output_type": "execute_result",
          "data": {
            "text/plain": [
              "'EEEEE'"
            ],
            "application/vnd.google.colaboratory.intrinsic+json": {
              "type": "string"
            }
          },
          "metadata": {},
          "execution_count": 42
        }
      ]
    },
    {
      "cell_type": "code",
      "source": [
        "dog = Dog()"
      ],
      "metadata": {
        "id": "kDQIJOp6Sb01"
      },
      "execution_count": 43,
      "outputs": []
    },
    {
      "cell_type": "code",
      "source": [
        "dog.say(\"BOW WOW\")"
      ],
      "metadata": {
        "id": "Fdb3Gh7wSbyN",
        "outputId": "8cd10813-0de4-44bd-c516-3106809794af",
        "colab": {
          "base_uri": "https://localhost:8080/"
        }
      },
      "execution_count": 44,
      "outputs": [
        {
          "output_type": "stream",
          "name": "stdout",
          "text": [
            "This is dog: BOW WOW\n"
          ]
        }
      ]
    },
    {
      "cell_type": "code",
      "source": [
        "bird = Bird()"
      ],
      "metadata": {
        "id": "GhHOCKT3S0QH"
      },
      "execution_count": 46,
      "outputs": []
    },
    {
      "cell_type": "code",
      "source": [
        "bird.say(\"ZIZIZI\")"
      ],
      "metadata": {
        "id": "PY5QCNSyS9Rn",
        "outputId": "daedcfb5-7e80-41ab-b6da-7b9065627dd8",
        "colab": {
          "base_uri": "https://localhost:8080/"
        }
      },
      "execution_count": 47,
      "outputs": [
        {
          "output_type": "stream",
          "name": "stdout",
          "text": [
            "This is Bird ZIZIZI\n"
          ]
        }
      ]
    },
    {
      "cell_type": "markdown",
      "source": [
        "# Overloading"
      ],
      "metadata": {
        "id": "pKTDCKWTTwDG"
      }
    },
    {
      "cell_type": "code",
      "source": [
        "class Method :\n",
        "  def __init__(self, obj):\n",
        "    self.obj = obj\n",
        "\n",
        "  def _value_check(self, value):\n",
        "    return value if isinstance(value, int) else int(value)    \n",
        "  \n",
        "  def __add__(self, value):\n",
        "    value = self._value_check(value)\n",
        "    self.obj = [x + value for x in self.obj]\n",
        "    # return self.obj\n",
        "    print(\"__add__\")\n",
        "\n",
        "  def __sub__(self, value):\n",
        "    value = self._value_check(value)\n",
        "    self.obj = [x - value for x in self.obj]\n",
        "    print(\"__sub__\")\n",
        "\n",
        "  def __mul__(self, value):\n",
        "    value = self._value_check(value)\n",
        "    self.obj = [x * value for x in self.obj]\n",
        "    print(\"__mul__\")\n",
        "\n",
        "  def __truediv__(self, value):\n",
        "    value = self._value_check(value)\n",
        "    self.obj = [int(x/value) for x in self.obj]\n",
        "    print(\"__truediv__\")\n",
        "  "
      ],
      "metadata": {
        "id": "Nv__Z6C1TDlK"
      },
      "execution_count": 56,
      "outputs": []
    },
    {
      "cell_type": "code",
      "source": [
        "m = Method([1,2,3,4,])\n"
      ],
      "metadata": {
        "id": "sQdXPuDeVXmQ"
      },
      "execution_count": 62,
      "outputs": []
    },
    {
      "cell_type": "code",
      "source": [
        "m1 = m  + 3 # + 연산자 overloading "
      ],
      "metadata": {
        "id": "XPcDIbytVjWO",
        "outputId": "a86f0622-2e50-42ea-8f7a-8830fbc3d9b4",
        "colab": {
          "base_uri": "https://localhost:8080/"
        }
      },
      "execution_count": 63,
      "outputs": [
        {
          "output_type": "stream",
          "name": "stdout",
          "text": [
            "__add__\n"
          ]
        }
      ]
    },
    {
      "cell_type": "code",
      "source": [
        "m"
      ],
      "metadata": {
        "id": "tRlRUW9TVlCl",
        "outputId": "0f1b95d9-bb21-4e94-bb73-af2d04070772",
        "colab": {
          "base_uri": "https://localhost:8080/"
        }
      },
      "execution_count": 66,
      "outputs": [
        {
          "output_type": "execute_result",
          "data": {
            "text/plain": [
              "<__main__.Method at 0x7f1ad1408e80>"
            ]
          },
          "metadata": {},
          "execution_count": 66
        }
      ]
    },
    {
      "cell_type": "code",
      "source": [
        "m.obj"
      ],
      "metadata": {
        "id": "5aQHt6XUXZhU",
        "outputId": "93166a33-70c1-4b53-c432-e50af1ddd32c",
        "colab": {
          "base_uri": "https://localhost:8080/"
        }
      },
      "execution_count": 67,
      "outputs": [
        {
          "output_type": "execute_result",
          "data": {
            "text/plain": [
              "[1, 2, 3, 4]"
            ]
          },
          "metadata": {},
          "execution_count": 67
        }
      ]
    },
    {
      "cell_type": "code",
      "source": [
        "m - 3.0"
      ],
      "metadata": {
        "id": "BoEGu0x1bDdO",
        "outputId": "26b3ab53-deed-4e39-ac71-5b69ec5ac8f9",
        "colab": {
          "base_uri": "https://localhost:8080/"
        }
      },
      "execution_count": 68,
      "outputs": [
        {
          "output_type": "stream",
          "name": "stdout",
          "text": [
            "__sub__\n"
          ]
        }
      ]
    },
    {
      "cell_type": "code",
      "source": [
        "m.obj"
      ],
      "metadata": {
        "id": "6z-RgajobEkk",
        "outputId": "ad259d0a-8be7-4719-adb0-4b60fa23ffab",
        "colab": {
          "base_uri": "https://localhost:8080/"
        }
      },
      "execution_count": 69,
      "outputs": [
        {
          "output_type": "execute_result",
          "data": {
            "text/plain": [
              "[-2, -1, 0, 1]"
            ]
          },
          "metadata": {},
          "execution_count": 69
        }
      ]
    },
    {
      "cell_type": "code",
      "source": [],
      "metadata": {
        "id": "3qwpNIrVbFYH"
      },
      "execution_count": null,
      "outputs": []
    }
  ]
}